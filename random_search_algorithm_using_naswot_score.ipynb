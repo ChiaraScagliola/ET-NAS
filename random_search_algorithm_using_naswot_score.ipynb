{
  "cells": [
    {
      "cell_type": "markdown",
      "metadata": {
        "id": "wW7wcc7xND-A"
      },
      "source": [
        "# NASWOT"
      ]
    },
    {
      "cell_type": "code",
      "execution_count": 1,
      "metadata": {
        "colab": {
          "base_uri": "https://localhost:8080/"
        },
        "id": "bCN0156JQiZc",
        "outputId": "10f2827b-3ed1-45e3-fc3a-429f439821ad"
      },
      "outputs": [
        {
          "output_type": "stream",
          "name": "stdout",
          "text": [
            "Mounted at /content/drive\n"
          ]
        }
      ],
      "source": [
        "from google.colab import drive\n",
        "drive.mount('/content/drive')"
      ]
    },
    {
      "cell_type": "code",
      "execution_count": 2,
      "metadata": {
        "colab": {
          "base_uri": "https://localhost:8080/"
        },
        "id": "091dHNf6Rtj9",
        "outputId": "c8bc7b00-8948-414d-a13e-957cc4b15345"
      },
      "outputs": [
        {
          "output_type": "stream",
          "name": "stdout",
          "text": [
            "/content/drive/MyDrive/GitHub\n"
          ]
        }
      ],
      "source": [
        "%cd /content/drive/MyDrive/GitHub"
      ]
    },
    {
      "cell_type": "code",
      "execution_count": 3,
      "metadata": {
        "id": "cvFYjtMqNry_"
      },
      "outputs": [],
      "source": [
        "repository = \"NAS_project\""
      ]
    },
    {
      "cell_type": "code",
      "execution_count": 4,
      "metadata": {
        "colab": {
          "base_uri": "https://localhost:8080/"
        },
        "id": "BrUNlzm7Okjp",
        "outputId": "da263328-1a21-43af-edf2-6152d1df7f58"
      },
      "outputs": [
        {
          "output_type": "stream",
          "name": "stdout",
          "text": [
            "/content/drive/MyDrive/GitHub/NAS_project\n"
          ]
        }
      ],
      "source": [
        "%cd {repository}"
      ]
    },
    {
      "cell_type": "code",
      "execution_count": 5,
      "metadata": {
        "id": "3_z0O1nFWOYg",
        "colab": {
          "base_uri": "https://localhost:8080/"
        },
        "outputId": "1825fe2d-dda8-4306-c211-2756f0164c79"
      },
      "outputs": [
        {
          "output_type": "stream",
          "name": "stdout",
          "text": [
            "Looking in indexes: https://pypi.org/simple, https://us-python.pkg.dev/colab-wheels/public/simple/\n",
            "Collecting nats_bench\n",
            "  Downloading nats_bench-1.7-py3-none-any.whl (32 kB)\n",
            "Requirement already satisfied: numpy>=1.16.5 in /usr/local/lib/python3.7/dist-packages (from nats_bench) (1.21.6)\n",
            "Installing collected packages: nats-bench\n",
            "Successfully installed nats-bench-1.7\n"
          ]
        }
      ],
      "source": [
        "pip install nats_bench"
      ]
    },
    {
      "cell_type": "code",
      "execution_count": 6,
      "metadata": {
        "id": "90OfaHXWUe99",
        "colab": {
          "base_uri": "https://localhost:8080/"
        },
        "outputId": "8aa43790-7179-447c-e31c-6d17f665242a"
      },
      "outputs": [
        {
          "output_type": "stream",
          "name": "stdout",
          "text": [
            "Looking in indexes: https://pypi.org/simple, https://us-python.pkg.dev/colab-wheels/public/simple/\n",
            "Collecting yacs\n",
            "  Downloading yacs-0.1.8-py3-none-any.whl (14 kB)\n",
            "Requirement already satisfied: PyYAML in /usr/local/lib/python3.7/dist-packages (from yacs) (6.0)\n",
            "Installing collected packages: yacs\n",
            "Successfully installed yacs-0.1.8\n"
          ]
        }
      ],
      "source": [
        "pip install yacs"
      ]
    },
    {
      "cell_type": "code",
      "execution_count": 7,
      "metadata": {
        "id": "SpiKYAd7Ujr9",
        "colab": {
          "base_uri": "https://localhost:8080/"
        },
        "outputId": "757f1d36-12da-4b83-933c-d0d51043f683"
      },
      "outputs": [
        {
          "output_type": "stream",
          "name": "stdout",
          "text": [
            "Looking in indexes: https://pypi.org/simple, https://us-python.pkg.dev/colab-wheels/public/simple/\n",
            "Collecting simplejson\n",
            "  Downloading simplejson-3.17.6-cp37-cp37m-manylinux_2_5_x86_64.manylinux1_x86_64.manylinux_2_12_x86_64.manylinux2010_x86_64.whl (130 kB)\n",
            "\u001b[K     |████████████████████████████████| 130 kB 8.0 MB/s \n",
            "\u001b[?25hInstalling collected packages: simplejson\n",
            "Successfully installed simplejson-3.17.6\n"
          ]
        }
      ],
      "source": [
        "pip install simplejson"
      ]
    },
    {
      "cell_type": "code",
      "execution_count": 8,
      "metadata": {
        "id": "XOZVCnm6Umeu",
        "colab": {
          "base_uri": "https://localhost:8080/",
          "height": 819
        },
        "outputId": "6ce49c1c-cf91-479a-b4df-0dc356d15a93"
      },
      "outputs": [
        {
          "output_type": "stream",
          "name": "stdout",
          "text": [
            "Looking in indexes: https://pypi.org/simple, https://us-python.pkg.dev/colab-wheels/public/simple/\n",
            "Collecting xautodl\n",
            "  Downloading xautodl-1.0.0-py3-none-any.whl (225 kB)\n",
            "\u001b[K     |████████████████████████████████| 225 kB 6.6 MB/s \n",
            "\u001b[?25hCollecting fvcore\n",
            "  Downloading fvcore-0.1.5.post20220512.tar.gz (50 kB)\n",
            "\u001b[K     |████████████████████████████████| 50 kB 7.8 MB/s \n",
            "\u001b[?25hCollecting numpy<=1.19.5,>=1.16.5\n",
            "  Downloading numpy-1.19.5-cp37-cp37m-manylinux2010_x86_64.whl (14.8 MB)\n",
            "\u001b[K     |████████████████████████████████| 14.8 MB 65.8 MB/s \n",
            "\u001b[?25hRequirement already satisfied: pyyaml>=5.0.0 in /usr/local/lib/python3.7/dist-packages (from xautodl) (6.0)\n",
            "Requirement already satisfied: yacs>=0.1.6 in /usr/local/lib/python3.7/dist-packages (from fvcore->xautodl) (0.1.8)\n",
            "Requirement already satisfied: tqdm in /usr/local/lib/python3.7/dist-packages (from fvcore->xautodl) (4.64.0)\n",
            "Requirement already satisfied: termcolor>=1.1 in /usr/local/lib/python3.7/dist-packages (from fvcore->xautodl) (1.1.0)\n",
            "Requirement already satisfied: Pillow in /usr/local/lib/python3.7/dist-packages (from fvcore->xautodl) (7.1.2)\n",
            "Requirement already satisfied: tabulate in /usr/local/lib/python3.7/dist-packages (from fvcore->xautodl) (0.8.10)\n",
            "Collecting iopath>=0.1.7\n",
            "  Downloading iopath-0.1.10.tar.gz (42 kB)\n",
            "\u001b[K     |████████████████████████████████| 42 kB 1.2 MB/s \n",
            "\u001b[?25hRequirement already satisfied: typing_extensions in /usr/local/lib/python3.7/dist-packages (from iopath>=0.1.7->fvcore->xautodl) (4.1.1)\n",
            "Collecting portalocker\n",
            "  Downloading portalocker-2.5.1-py2.py3-none-any.whl (15 kB)\n",
            "Building wheels for collected packages: fvcore, iopath\n",
            "  Building wheel for fvcore (setup.py) ... \u001b[?25l\u001b[?25hdone\n",
            "  Created wheel for fvcore: filename=fvcore-0.1.5.post20220512-py3-none-any.whl size=61288 sha256=fc684a7d809d6cd12ee86a87664225ef4ce802c7945127dcce2b766bb01826fc\n",
            "  Stored in directory: /root/.cache/pip/wheels/68/20/f9/a11a0dd63f4c13678b2a5ec488e48078756505c7777b75b29e\n",
            "  Building wheel for iopath (setup.py) ... \u001b[?25l\u001b[?25hdone\n",
            "  Created wheel for iopath: filename=iopath-0.1.10-py3-none-any.whl size=31549 sha256=ffc771ca8122084fa1600c7158c12c27a74ddea60989ebc78eca2974250479d2\n",
            "  Stored in directory: /root/.cache/pip/wheels/aa/cc/ed/ca4e88beef656b01c84b9185196513ef2faf74a5a379b043a7\n",
            "Successfully built fvcore iopath\n",
            "Installing collected packages: portalocker, numpy, iopath, fvcore, xautodl\n",
            "  Attempting uninstall: numpy\n",
            "    Found existing installation: numpy 1.21.6\n",
            "    Uninstalling numpy-1.21.6:\n",
            "      Successfully uninstalled numpy-1.21.6\n",
            "\u001b[31mERROR: pip's dependency resolver does not currently take into account all the packages that are installed. This behaviour is the source of the following dependency conflicts.\n",
            "xarray-einstats 0.2.2 requires numpy>=1.21, but you have numpy 1.19.5 which is incompatible.\n",
            "tensorflow 2.8.2+zzzcolab20220719082949 requires numpy>=1.20, but you have numpy 1.19.5 which is incompatible.\n",
            "cmdstanpy 1.0.4 requires numpy>=1.21, but you have numpy 1.19.5 which is incompatible.\u001b[0m\n",
            "Successfully installed fvcore-0.1.5.post20220512 iopath-0.1.10 numpy-1.19.5 portalocker-2.5.1 xautodl-1.0.0\n"
          ]
        },
        {
          "output_type": "display_data",
          "data": {
            "application/vnd.colab-display-data+json": {
              "pip_warning": {
                "packages": [
                  "numpy"
                ]
              }
            }
          },
          "metadata": {}
        }
      ],
      "source": [
        "pip install xautodl"
      ]
    },
    {
      "cell_type": "code",
      "execution_count": 9,
      "metadata": {
        "colab": {
          "base_uri": "https://localhost:8080/"
        },
        "id": "FJx86GeBT-oP",
        "outputId": "f8fcd2c8-793c-4566-c7b9-9745f38f1084"
      },
      "outputs": [
        {
          "output_type": "stream",
          "name": "stdout",
          "text": [
            "env: TORCH_HOME=/content/drive/MyDrive/NAS-PULITO/.torch\n"
          ]
        }
      ],
      "source": [
        "# setto una variabile d'ambiente TORCH_HOME\n",
        "%env TORCH_HOME=/content/drive/MyDrive/NAS-PULITO/.torch"
      ]
    },
    {
      "cell_type": "code",
      "execution_count": 10,
      "metadata": {
        "id": "uqBX1_HJ1xCE"
      },
      "outputs": [],
      "source": [
        "#import delle library\n",
        "import torch\n",
        "import argparse\n",
        "import datasets \n",
        "import nasspace\n",
        "import pandas as pd\n",
        "import csv\n",
        "import random\n",
        "import numpy as np\n",
        "from timeit import default_timer as timer\n",
        "import os\n",
        "from scipy import stats\n",
        "from nats_bench import create\n",
        "import xautodl  # import this lib -- \"https://github.com/D-X-Y/AutoDL-Projects\", you can use pip install xautodl\n",
        "from xautodl.models import get_cell_based_tiny_net\n",
        "\n",
        "device = torch.device(\"cuda:0\" if torch.cuda.is_available() else \"cpu\")"
      ]
    },
    {
      "cell_type": "markdown",
      "metadata": {
        "id": "8iRIQfkBXz3T"
      },
      "source": [
        "## **Calcolo Naswot**"
      ]
    },
    {
      "cell_type": "code",
      "execution_count": null,
      "metadata": {
        "id": "fa2OpefpXyJr"
      },
      "outputs": [],
      "source": [
        "number_experiments = 3\n",
        "results = []\n",
        "\n",
        "arch_info = ['arch_id', 'score', 'time', 'acc']\n",
        "\n",
        "device = torch.device(\"cuda:0\" if torch.cuda.is_available() else \"cpu\")\n",
        "\n",
        "\n",
        "GPU = '0'\n",
        "seed = 1\n",
        "batch_size = 128\n",
        "\n",
        "#Per Imagenet\n",
        "#dataset = 'ImageNet16-120'\n",
        "#data_loc = \"/content/drive/MyDrive/NAS/.torch/ImageNet16\"\n",
        "\n",
        "#per Cifar100\n",
        "#dataset = 'cifar100'\n",
        "#data_loc = \"/content/drive/MyDrive/NAS-PULITO/cifar-100-python\"\n",
        "\n",
        "#per Cifar10\n",
        "dataset = 'cifar10'\n",
        "data_loc = '/content/drive/MyDrive/NAS-PULITO/cifar-10-batches-py'\n",
        "\n",
        "save_loc = 'results'\n",
        "save_string = 'naswot'\n",
        "n_samples = 100\n",
        "save_loc = 'results'\n",
        "score_name = 'naswot'\n",
        "trainval = 0\n",
        "N = 10\n",
        "arch_dict = []\n",
        "\n",
        "df_config = pd.read_csv(\"conf.csv\")\n",
        "searchspace = nasspace.get_search_space(dataset, df_config.conf)\n",
        "train_loader = datasets.get_data(dataset, data_loc,batch_size)\n",
        "\n",
        "\n",
        "\n",
        "\n",
        "\n",
        "filename = f'nsawot_on_{dataset}_in_{number_experiments}_experimetns_with_N={N}.csv'\n",
        "\n",
        "#with open(filename, 'w') as csvfile:\n",
        "#  writer = csv.DictWriter(csvfile, fieldnames = arch_info)\n",
        "#  writer.writeheader()\n",
        "\n",
        "def boolRelu_forward_hook(module, inp, out):\n",
        "  if isinstance(out, tuple):\n",
        "    out = out[0]\n",
        "  out = out.view(out.size(0), -1)   \n",
        "  x = (out > 0).float()  \n",
        "  network.boolRelu = torch.cat((network.boolRelu, x), -1)\n",
        "\n",
        "def scoreNaswot(network, train_loader):\n",
        "  start = timer()\n",
        "  network = network.to(device)\n",
        "  network.boolRelu = torch.tensor([])\n",
        "  network.boolRelu = network.boolRelu.to(device)\n",
        "\n",
        "  for name, module in network.named_modules(): \n",
        "    if (isinstance(module, torch.nn.modules.activation.ReLU)):\n",
        "      module.register_forward_hook(boolRelu_forward_hook)\n",
        "              \n",
        "  data_iterator = iter(train_loader)\n",
        "  x, target = next(data_iterator)\n",
        "  x, target = x.to(device), target.to(device)\n",
        "  network(x)\n",
        "  k = (network.boolRelu @ network.boolRelu.t()) + ((1. - network.boolRelu) @ (1. - network.boolRelu.t()))\n",
        "  logdet = torch.linalg.slogdet(k)[1].cpu()\n",
        "  end = timer()\n",
        "  return (logdet, (end - start))\n",
        "\n",
        "\n",
        "for i in range(number_experiments):\n",
        "  start_time_naswot = timer()\n",
        "  best_score = 0\n",
        "  best_arch = 0\n",
        "  for i in range(N):\n",
        "    random_arch_id = searchspace.random_arch()\n",
        "    network = searchspace.get_network(random_arch_id)\n",
        "    score = scoreNaswot(network, train_loader)[0].item()\n",
        "    if score >= best_score:\n",
        "      best_score = score\n",
        "      best_arch = random_arch_id\n",
        "  \n",
        "  end_time_naswot = timer()\n",
        "  tot_time_naswot = end_time_naswot-start_time_naswot\n",
        "  arch_dict.append({'arch_id' : best_arch,'score' : best_score, 'time': tot_time_naswot, 'acc' : searchspace.get_final_accuracy(best_arch)})\n",
        "    \n",
        "  with open(filename, 'w') as csvfile:\n",
        "        writer = csv.DictWriter(csvfile, fieldnames = arch_info)\n",
        "        writer.writeheader()\n",
        "        writer.writerows(arch_dict)\n",
        "  "
      ]
    },
    {
      "cell_type": "markdown",
      "metadata": {
        "id": "Pr_HiNMc-xJb"
      },
      "source": [
        "# RESULTS"
      ]
    },
    {
      "cell_type": "code",
      "execution_count": null,
      "metadata": {
        "colab": {
          "base_uri": "https://localhost:8080/"
        },
        "id": "QNeLEjTSMjmm",
        "outputId": "0181daf7-cce2-46a7-e382-afaf3bc5b8a0"
      },
      "outputs": [
        {
          "name": "stdout",
          "output_type": "stream",
          "text": [
            "arch_id    9757.900000\n",
            "score      1426.456047\n",
            "time          0.785148\n",
            "acc          41.693518\n",
            "dtype: float64\n",
            "arch_id    4207.049227\n",
            "score        29.539557\n",
            "time          0.077772\n",
            "acc           3.405759\n",
            "dtype: float64\n"
          ]
        }
      ],
      "source": [
        "naswot_on_ImageNet16 = pd.read_csv(\"/content/drive/MyDrive/GitHub/NAS_project/nsawot_on_ImageNet16-120_in_30_experimetns_with_N=10.csv\")\n",
        "print(naswot_on_ImageNet16.mean())\n",
        "print(naswot_on_ImageNet16.std())"
      ]
    },
    {
      "cell_type": "code",
      "execution_count": null,
      "metadata": {
        "colab": {
          "base_uri": "https://localhost:8080/"
        },
        "id": "FISIC__197j6",
        "outputId": "e0783f75-7640-4d26-e98e-13ab1c00d0af"
      },
      "outputs": [
        {
          "name": "stdout",
          "output_type": "stream",
          "text": [
            "arch_id    7046.366667\n",
            "score      1458.625549\n",
            "time          8.093318\n",
            "acc          42.640926\n",
            "dtype: float64\n",
            "arch_id    4361.541411\n",
            "score         9.423229\n",
            "time          1.267601\n",
            "acc           3.633883\n",
            "dtype: float64\n"
          ]
        }
      ],
      "source": [
        "naswot_on_ImageNet16 = pd.read_csv(\"/content/drive/MyDrive/GitHub/NAS_project/nsawot_on_ImageNet16-120_in_30_experimetns_with_N=100.csv\")\n",
        "print(naswot_on_ImageNet16.mean())\n",
        "print(naswot_on_ImageNet16.std())"
      ]
    },
    {
      "cell_type": "code",
      "execution_count": null,
      "metadata": {
        "colab": {
          "base_uri": "https://localhost:8080/"
        },
        "id": "Dy6QsiWG_JAD",
        "outputId": "94429162-9ca2-496d-fb51-2bbe78fd583e"
      },
      "outputs": [
        {
          "name": "stdout",
          "output_type": "stream",
          "text": [
            "arch_id    8686.033333\n",
            "score      1478.701078\n",
            "time         77.601863\n",
            "acc          44.340926\n",
            "dtype: float64\n",
            "arch_id    4548.420942\n",
            "score         2.011432\n",
            "time          2.829672\n",
            "acc           2.593646\n",
            "dtype: float64\n"
          ]
        }
      ],
      "source": [
        "naswot_on_ImageNet16 = pd.read_csv(\"/content/drive/MyDrive/GitHub/NAS_project/nsawot_on_ImageNet16-120_in_30_experimetns_with_N=1000.csv\")\n",
        "print(naswot_on_ImageNet16.mean())\n",
        "print(naswot_on_ImageNet16.std())"
      ]
    },
    {
      "cell_type": "code",
      "execution_count": null,
      "metadata": {
        "colab": {
          "base_uri": "https://localhost:8080/"
        },
        "id": "lPnyvEn7Hqto",
        "outputId": "77f967cf-cff6-4fc5-a37c-49c7bc7e5247"
      },
      "outputs": [
        {
          "name": "stdout",
          "output_type": "stream",
          "text": [
            "arch_id    8047.166667\n",
            "score      1601.616471\n",
            "time          1.091877\n",
            "acc          92.595333\n",
            "dtype: float64\n",
            "arch_id    4437.359156\n",
            "score        26.845492\n",
            "time          0.196616\n",
            "acc           0.671436\n",
            "dtype: float64\n"
          ]
        }
      ],
      "source": [
        "naswot_on_cifar10 = pd.read_csv(\"/content/drive/MyDrive/GitHub/NAS_project/nsawot_on_cifar10_in_30_experimetns_with_N=10.csv\")\n",
        "print(naswot_on_cifar10.mean())\n",
        "print(naswot_on_cifar10.std())"
      ]
    },
    {
      "cell_type": "code",
      "execution_count": null,
      "metadata": {
        "colab": {
          "base_uri": "https://localhost:8080/"
        },
        "id": "TKbeR7XxIrqR",
        "outputId": "dfdac9e5-535d-4af6-abf5-5c0177f6bb4a"
      },
      "outputs": [
        {
          "name": "stdout",
          "output_type": "stream",
          "text": [
            "arch_id    7547.666667\n",
            "score      1641.810990\n",
            "time         10.815239\n",
            "acc          92.926333\n",
            "dtype: float64\n",
            "arch_id    4664.391799\n",
            "score        11.451192\n",
            "time          0.667915\n",
            "acc           0.819975\n",
            "dtype: float64\n"
          ]
        }
      ],
      "source": [
        "naswot_on_cifar10 = pd.read_csv(\"/content/drive/MyDrive/GitHub/NAS_project/nsawot_on_cifar10_in_30_experimetns_with_N=100.csv\")\n",
        "print(naswot_on_cifar10.mean())\n",
        "print(naswot_on_cifar10.std())"
      ]
    },
    {
      "cell_type": "code",
      "execution_count": null,
      "metadata": {
        "id": "uo8wK-s8JxDI",
        "colab": {
          "base_uri": "https://localhost:8080/"
        },
        "outputId": "9c80d88c-0881-4148-93f4-41979de0e1a7"
      },
      "outputs": [
        {
          "output_type": "stream",
          "name": "stdout",
          "text": [
            "arch_id    8780.133333\n",
            "score      1658.377148\n",
            "time        108.721842\n",
            "acc          92.994556\n",
            "dtype: float64\n",
            "arch_id    4224.015280\n",
            "score         1.032617\n",
            "time          1.424874\n",
            "acc           0.810597\n",
            "dtype: float64\n"
          ]
        }
      ],
      "source": [
        "naswot_on_cifar10 = pd.read_csv(\"/content/drive/MyDrive/GitHub/NAS_project/nsawot_on_cifar10_in_30_experimetns_with_N=1000.csv\")\n",
        "print(naswot_on_cifar10.mean())\n",
        "print(naswot_on_cifar10.std())"
      ]
    },
    {
      "cell_type": "code",
      "source": [
        "naswot_on_cifar100 = pd.read_csv(\"/content/drive/MyDrive/GitHub/NAS_project/nsawot_on_cifar100_in_30_experimetns_with_N=10.csv\")\n",
        "print(naswot_on_cifar100.mean())\n",
        "print(naswot_on_cifar100.std())"
      ],
      "metadata": {
        "colab": {
          "base_uri": "https://localhost:8080/"
        },
        "id": "vVPt2QJuTHMy",
        "outputId": "f533b482-0d63-4ff9-8316-8476c3722bbe"
      },
      "execution_count": null,
      "outputs": [
        {
          "output_type": "stream",
          "name": "stdout",
          "text": [
            "arch_id    6214.666667\n",
            "score      1603.521936\n",
            "time          1.675180\n",
            "acc          68.916667\n",
            "dtype: float64\n",
            "arch_id    5095.631613\n",
            "score        29.469323\n",
            "time          2.826679\n",
            "acc           2.088517\n",
            "dtype: float64\n"
          ]
        }
      ]
    },
    {
      "cell_type": "code",
      "source": [
        "naswot_on_cifar100 = pd.read_csv(\"/content/drive/MyDrive/GitHub/NAS_project/nsawot_on_cifar100_in_30_experimetns_with_N=100.csv\")\n",
        "print(naswot_on_cifar100.mean())\n",
        "print(naswot_on_cifar100.std())"
      ],
      "metadata": {
        "colab": {
          "base_uri": "https://localhost:8080/"
        },
        "id": "bwTIlbhxUI3W",
        "outputId": "b1e3a91f-6fb6-4e74-bea3-1d25b2003034"
      },
      "execution_count": null,
      "outputs": [
        {
          "output_type": "stream",
          "name": "stdout",
          "text": [
            "arch_id    8557.500000\n",
            "score      1638.876115\n",
            "time         10.844955\n",
            "acc          69.700333\n",
            "dtype: float64\n",
            "arch_id    4778.760319\n",
            "score        11.231150\n",
            "time          0.467155\n",
            "acc           1.406759\n",
            "dtype: float64\n"
          ]
        }
      ]
    },
    {
      "cell_type": "code",
      "source": [
        "naswot_on_cifar100 = pd.read_csv(\"/content/drive/MyDrive/GitHub/NAS_project/nsawot_on_cifar100_in_30_experimetns_with_N=1000.csv\")\n",
        "print(naswot_on_cifar100.mean())\n",
        "print(naswot_on_cifar100.std())"
      ],
      "metadata": {
        "colab": {
          "base_uri": "https://localhost:8080/"
        },
        "id": "zqWO63wmVI4H",
        "outputId": "c23dda83-2395-474e-b525-093fd302fac6"
      },
      "execution_count": null,
      "outputs": [
        {
          "output_type": "stream",
          "name": "stdout",
          "text": [
            "arch_id    8427.300000\n",
            "score      1657.501611\n",
            "time        108.796004\n",
            "acc          70.160111\n",
            "dtype: float64\n",
            "arch_id    4291.095224\n",
            "score         1.812482\n",
            "time          1.558431\n",
            "acc           0.688089\n",
            "dtype: float64\n"
          ]
        }
      ]
    }
  ],
  "metadata": {
    "accelerator": "GPU",
    "colab": {
      "collapsed_sections": [],
      "name": "random search algorithm using naswot score.ipynb",
      "provenance": []
    },
    "gpuClass": "standard",
    "kernelspec": {
      "display_name": "Python 3",
      "name": "python3"
    },
    "language_info": {
      "name": "python"
    }
  },
  "nbformat": 4,
  "nbformat_minor": 0
}