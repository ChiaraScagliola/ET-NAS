{
  "cells": [
    {
      "cell_type": "code",
      "execution_count": 1,
      "metadata": {
        "colab": {
          "base_uri": "https://localhost:8080/"
        },
        "id": "BIsGjTfcbv-y",
        "outputId": "ac470499-c53b-4ef0-9d63-547f901a9a03"
      },
      "outputs": [
        {
          "name": "stdout",
          "output_type": "stream",
          "text": [
            "Mounted at /content/drive\n"
          ]
        }
      ],
      "source": [
        "from google.colab import drive\n",
        "drive.mount('/content/drive')"
      ]
    },
    {
      "cell_type": "code",
      "execution_count": 2,
      "metadata": {
        "colab": {
          "base_uri": "https://localhost:8080/"
        },
        "id": "ybZcbZlBclww",
        "outputId": "e0c23f59-4cd2-4d8a-b85c-85db0822baec"
      },
      "outputs": [
        {
          "name": "stdout",
          "output_type": "stream",
          "text": [
            "/content/drive/MyDrive/GitHub\n"
          ]
        }
      ],
      "source": [
        "%cd /content/drive/MyDrive/GitHub"
      ]
    },
    {
      "cell_type": "code",
      "execution_count": 3,
      "metadata": {
        "id": "tgj8z3YjcqsB"
      },
      "outputs": [],
      "source": [
        "repository = \"NAS_project\""
      ]
    },
    {
      "cell_type": "code",
      "execution_count": 4,
      "metadata": {
        "colab": {
          "base_uri": "https://localhost:8080/"
        },
        "id": "hCjRhZdwcrs4",
        "outputId": "e73502a9-a3ce-4c33-d300-c9b715df6f06"
      },
      "outputs": [
        {
          "name": "stdout",
          "output_type": "stream",
          "text": [
            "/content/drive/MyDrive/GitHub/NAS_project\n"
          ]
        }
      ],
      "source": [
        "%cd {repository}"
      ]
    },
    {
      "cell_type": "code",
      "execution_count": null,
      "metadata": {
        "id": "6pW1eAFrczUX"
      },
      "outputs": [],
      "source": [
        "pip install nats_bench"
      ]
    },
    {
      "cell_type": "code",
      "execution_count": null,
      "metadata": {
        "id": "EpSGj_ccc4KI"
      },
      "outputs": [],
      "source": [
        "pip install yacs"
      ]
    },
    {
      "cell_type": "code",
      "execution_count": null,
      "metadata": {
        "id": "zW5Pmym0c7TR"
      },
      "outputs": [],
      "source": [
        "pip install simplejson"
      ]
    },
    {
      "cell_type": "code",
      "execution_count": null,
      "metadata": {
        "id": "e4BRbwA8c-aF"
      },
      "outputs": [],
      "source": [
        "pip install xautodl"
      ]
    },
    {
      "cell_type": "code",
      "execution_count": null,
      "metadata": {
        "id": "gQHmOqI_iJId"
      },
      "outputs": [],
      "source": [
        "pip install pytorchcv"
      ]
    },
    {
      "cell_type": "code",
      "execution_count": 10,
      "metadata": {
        "colab": {
          "base_uri": "https://localhost:8080/"
        },
        "id": "VEheGLe8dGRK",
        "outputId": "8861e024-03f3-4e93-b482-42c32715a3e7"
      },
      "outputs": [
        {
          "name": "stdout",
          "output_type": "stream",
          "text": [
            "env: TORCH_HOME=/content/drive/MyDrive/NAS-PULITO/.torch\n"
          ]
        }
      ],
      "source": [
        "%env TORCH_HOME=/content/drive/MyDrive/NAS-PULITO/.torch"
      ]
    },
    {
      "cell_type": "code",
      "execution_count": 11,
      "metadata": {
        "id": "l6JAXjXEdHYS"
      },
      "outputs": [],
      "source": [
        "# import librerie\n",
        "\n",
        "# librerie già presenti nelle prime versioni\n",
        "import torch\n",
        "import argparse\n",
        "import datasets \n",
        "import nasspace\n",
        "import pandas as pd\n",
        "import csv\n",
        "import random\n",
        "import numpy as np\n",
        "from timeit import default_timer as timer\n",
        "import os\n",
        "from scipy import stats\n",
        "from nats_bench import create\n",
        "import xautodl  # import this lib -- \"https://github.com/D-X-Y/AutoDL-Projects\", you can use pip install xautodl\n",
        "from xautodl.models import get_cell_based_tiny_net\n",
        "\n",
        "#librerie nuove\n",
        "from pycls.models.nas.nas import Cell\n",
        "import pandas as pd\n",
        "from pytorchcv.model_provider import get_model as ptcv_get_model\n",
        "from pytorchcv.model_provider import _models as ptcv_models\n",
        "from pruners import *\n",
        "from pruners import predictive\n",
        "from tqdm import trange\n",
        "from statistics import mean\n",
        "from sklearn.preprocessing import normalize\n",
        "import matplotlib.pyplot as plt\n",
        "from timeit import default_timer as timer\n",
        "\n",
        "from GenNAS.builder_task import *\n",
        "from GenNAS.builder_model import *\n",
        "from GenNAS.builder_evaluator import *\n",
        "from GenNAS.utils.config_generator import *\n"
      ]
    },
    {
      "cell_type": "code",
      "execution_count": 12,
      "metadata": {
        "id": "p3VW6r7EYRxp"
      },
      "outputs": [],
      "source": [
        "#SELECT DATASET\n",
        "#Dataset_name = \"Cifar-10\"\n",
        "#Dataset_name = \"Cifar-100\"\n",
        "Dataset_name = \"ImageNet\""
      ]
    },
    {
      "cell_type": "code",
      "execution_count": 14,
      "metadata": {
        "id": "0t7HP6w6eD2q"
      },
      "outputs": [],
      "source": [
        "GPU = '0'\n",
        "seed = 1\n",
        "batch_size = 128\n",
        "\n",
        "#CIFAR10\n",
        "if Dataset_name == \"Cifar-10\":\n",
        "  dataset = 'cifar10'\n",
        "  data_loc = '/content/drive/MyDrive/Github/NAS-PULITO/cifar-10-batches-py'\n",
        "\n",
        "\n",
        "#CIFAR100\n",
        "if Dataset_name == \"Cifar-100\":\n",
        "  dataset = 'cifar100'\n",
        "  data_loc = \"/content/drive/MyDrive/NAS-PULITO/cifar-100-python\"\n",
        "\n",
        "#IMAGENET\n",
        "if Dataset_name == \"ImageNet\":\n",
        "  dataset = 'ImageNet16-120'\n",
        "  data_loc = \"/content/drive/MyDrive/NAS/.torch/ImageNet16\"\n",
        "\n"
      ]
    },
    {
      "cell_type": "code",
      "execution_count": 15,
      "metadata": {
        "id": "7bKx87xQel8n"
      },
      "outputs": [],
      "source": [
        "os.environ['CUDA_VISIBLE_DEVICES'] = GPU\n",
        "\n",
        "# Reproducibility\n",
        "torch.backends.cudnn.deterministic = True\n",
        "torch.backends.cudnn.benchmark = False\n",
        "random.seed(seed)\n",
        "np.random.seed(seed)\n",
        "torch.manual_seed(seed)\n",
        "\n",
        "device = torch.device(\"cuda:0\" if torch.cuda.is_available() else \"cpu\")"
      ]
    },
    {
      "cell_type": "code",
      "execution_count": 17,
      "metadata": {
        "id": "rZTei2yNfFZv"
      },
      "outputs": [],
      "source": [
        "import torch\n",
        "\n",
        "\n",
        "def get_naswot(network, x):\n",
        "\n",
        "  network = network.to(device)\n",
        "\n",
        "  def boolRelu_forward_hook(module, inp, out):\n",
        "    if isinstance(out, tuple):\n",
        "      out = out[0]\n",
        "    out = out.view(out.size(0), -1)   \n",
        "    x = (out > 0).float()  \n",
        "    network.boolRelu = torch.cat((network.boolRelu, x), -1)\n",
        "    \n",
        "  network.boolRelu = torch.tensor([])\n",
        "  network.boolRelu = network.boolRelu.to(device)\n",
        "\n",
        "  for name, module in network.named_modules(): \n",
        "    if (isinstance(module, torch.nn.modules.activation.ReLU)):\n",
        "      module.register_forward_hook(boolRelu_forward_hook)\n",
        "              \n",
        "\n",
        "  network(x)\n",
        "  k = (network.boolRelu @ network.boolRelu.t()) + ((1. - network.boolRelu) @ (1. - network.boolRelu.t()))\n",
        "  logdet = torch.linalg.slogdet(k)[1].cpu().detach()\n",
        "  torch.cuda.empty_cache()\n",
        "  return logdet\n"
      ]
    },
    {
      "cell_type": "code",
      "execution_count": 18,
      "metadata": {
        "id": "h7cSA1fNftMi"
      },
      "outputs": [],
      "source": [
        "\n",
        "\n",
        "def get_uid_and_measure(uid, input, metric_name, population = None):\n",
        "  uid = int(uid)\n",
        "  network = searchspace.get_network(uid)\n",
        "  network.to(device)\n",
        "  if metric_name == \"Naswot\":\n",
        "    return uid, get_naswot(network, input).item()\n",
        "  else:\n",
        "    return 0"
      ]
    },
    {
      "cell_type": "code",
      "execution_count": 25,
      "metadata": {
        "id": "BKWeqA9vf-r1"
      },
      "outputs": [],
      "source": [
        "def get_uid_and_measures(uid_list, input, searchspace, metric_name):\n",
        "\n",
        "  naswot = []\n",
        "\n",
        "  if metric_name == \"Naswot\":\n",
        "    for uid in uid_list:\n",
        "      network = searchspace.get_network(int(uid))\n",
        "      network.to(device)\n",
        "      naswot.append([uid, get_naswot(network, input).item()])\n",
        "    return np.array(naswot)\n",
        "  else:\n",
        "    return 0"
      ]
    },
    {
      "cell_type": "code",
      "execution_count": 22,
      "metadata": {
        "id": "6Ad9Tir0x4ht"
      },
      "outputs": [],
      "source": [
        "df_config = pd.read_csv(\"conf.csv\")"
      ]
    },
    {
      "cell_type": "code",
      "execution_count": 23,
      "metadata": {
        "colab": {
          "base_uri": "https://localhost:8080/"
        },
        "id": "Y3gbWoWVx8tk",
        "outputId": "3c06eda5-93d2-4e68-f8a6-2d1de7a6f219"
      },
      "outputs": [
        {
          "name": "stdout",
          "output_type": "stream",
          "text": [
            "[2022-08-28 20:30:40] Try to use the default NATS-Bench (topology) path from fast_mode=True and path=None.\n"
          ]
        }
      ],
      "source": [
        "searchspace = nasspace.get_search_space(dataset, df_config.conf)\n",
        "train_loader = datasets.get_data(dataset, data_loc, batch_size)\n",
        "\n",
        "data_iterator = iter(train_loader)\n",
        "input, target = next(data_iterator)\n",
        "input, target = input.to(device), target.to(device)"
      ]
    },
    {
      "cell_type": "markdown",
      "metadata": {
        "id": "zh5OWISoJFRz"
      },
      "source": [
        "# Calcolo rea con naswot"
      ]
    },
    {
      "cell_type": "code",
      "execution_count": null,
      "metadata": {
        "id": "YaU6oworq2LB"
      },
      "outputs": [],
      "source": [
        "from numpy.random import default_rng\n",
        "\n",
        "Number_experiments = 3\n",
        "filename = f'ReaNASWOT_on_{dataset}_in_{Number_experiments}_experimets.csv'\n",
        "arch_dict = []\n",
        "\n",
        "arch_info = ['arch_id' , 'time', 'test_acc']\n",
        "history = []\n",
        "from numpy.random import default_rng\n",
        "population_size=20 \n",
        "n_sample=5\n",
        "cycles= 60\n",
        "time_budget = 10 #in secondi per un singolo esperimento\n",
        "\n",
        "for j in range(0,Number_experiments):\n",
        "  print(j)\n",
        "\n",
        "  best_arch = 0\n",
        "  history = []\n",
        "\n",
        "  start = timer()\n",
        "  uid_population =  random.sample(range(len(searchspace)),population_size)\n",
        "  population =  get_uid_and_measures(uid_population, input, searchspace, \"Naswot\") \n",
        "  history = population.copy()\n",
        "\n",
        "  start_timer = timer()\n",
        "  budget_timer = 0\n",
        "  while budget_timer <= time_budget:\n",
        "    control_timer = timer()\n",
        "    budget_timer = -(start_timer-control_timer)\n",
        "    uid_sample = random.sample(range(len(population)),n_sample)\n",
        "    sample = population[uid_sample]\n",
        "    parent = max(sample, key=lambda i: i[1])\n",
        "    child_idx = searchspace.mutate_arch(int(parent[0]))\n",
        "\n",
        "    if child_idx not in history[:,0]:\n",
        "\n",
        "      uid_and_measure = np.array(get_uid_and_measure(child_idx, input, \"Naswot\", population))\n",
        "      population = np.delete(population, 0, axis=0)\n",
        "      population = np.vstack((population, uid_and_measure))\n",
        "      history = np.vstack((history, uid_and_measure))\n",
        "\n",
        "  select_from_history = history[history[:,1] == max(history[:,1])]\n",
        "  print(select_from_history)\n",
        "  best_arch = select_from_history[0][0]\n",
        "  print(searchspace.get_final_accuracy(int(best_arch)))\n",
        "\n",
        "  arch_dict.append({'arch_id' : int(best_arch), \"time\": time_budget , 'test_acc': searchspace.get_final_accuracy(int(best_arch)) })\n",
        "\n",
        "  with open(filename, 'w') as csvfile:\n",
        "    writer = csv.DictWriter(csvfile, fieldnames = arch_info)\n",
        "    writer.writeheader()\n",
        "    writer.writerows(arch_dict)\n",
        "\n",
        "\n",
        "\n",
        "\n"
      ]
    },
    {
      "cell_type": "code",
      "execution_count": null,
      "metadata": {
        "colab": {
          "base_uri": "https://localhost:8080/"
        },
        "id": "wfU2O5AlynUL",
        "outputId": "c6d3e2e7-a99c-4399-e027-2fff069f3cb9"
      },
      "outputs": [
        {
          "name": "stdout",
          "output_type": "stream",
          "text": [
            "arch_id     8288.266667\n",
            "time           8.090000\n",
            "test_acc      43.697593\n",
            "dtype: float64\n",
            "arch_id     4364.48443\n",
            "time           0.00000\n",
            "test_acc       3.01780\n",
            "dtype: float64\n"
          ]
        }
      ],
      "source": [
        "ReaNASWOT_on_ImageNet16_120 = pd.read_csv(\"/content/drive/MyDrive/GitHub/NAS_project/ReaNASWOT_on_ImageNet16-120_in_30_experimets_time1.csv\")\n",
        "print(ReaNASWOT_on_ImageNet16_120.mean())\n",
        "print(ReaNASWOT_on_ImageNet16_120.std())"
      ]
    },
    {
      "cell_type": "code",
      "execution_count": null,
      "metadata": {
        "colab": {
          "base_uri": "https://localhost:8080/"
        },
        "id": "moGWHxpO3YBC",
        "outputId": "2fd80086-b89f-4ad5-c59c-071a85fd13e6"
      },
      "outputs": [
        {
          "name": "stdout",
          "output_type": "stream",
          "text": [
            "arch_id     7742.333333\n",
            "time          77.000000\n",
            "test_acc      42.817593\n",
            "dtype: float64\n",
            "arch_id     4790.997386\n",
            "time           0.000000\n",
            "test_acc       3.425127\n",
            "dtype: float64\n"
          ]
        }
      ],
      "source": [
        "ReaNASWOT_on_ImageNet16_120 = pd.read_csv(\"/content/drive/MyDrive/GitHub/NAS_project/ReaNASWOT_on_ImageNet16-120_in_30_experimets.csv\")\n",
        "print(ReaNASWOT_on_ImageNet16_120.mean())\n",
        "print(ReaNASWOT_on_ImageNet16_120.std())"
      ]
    }
  ],
  "metadata": {
    "accelerator": "GPU",
    "colab": {
      "collapsed_sections": [],
      "name": "REA using Naswot Score.ipynb",
      "provenance": []
    },
    "gpuClass": "standard",
    "kernelspec": {
      "display_name": "Python 3",
      "name": "python3"
    },
    "language_info": {
      "name": "python"
    }
  },
  "nbformat": 4,
  "nbformat_minor": 0
}
