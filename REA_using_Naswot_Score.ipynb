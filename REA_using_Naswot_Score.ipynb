{
  "nbformat": 4,
  "nbformat_minor": 0,
  "metadata": {
    "colab": {
      "name": "REA using Naswot Score.ipynb",
      "provenance": [],
      "collapsed_sections": []
    },
    "kernelspec": {
      "name": "python3",
      "display_name": "Python 3"
    },
    "language_info": {
      "name": "python"
    },
    "accelerator": "GPU",
    "gpuClass": "standard"
  },
  "cells": [
    {
      "cell_type": "code",
      "execution_count": 1,
      "metadata": {
        "id": "BIsGjTfcbv-y",
        "colab": {
          "base_uri": "https://localhost:8080/"
        },
        "outputId": "ac470499-c53b-4ef0-9d63-547f901a9a03"
      },
      "outputs": [
        {
          "output_type": "stream",
          "name": "stdout",
          "text": [
            "Mounted at /content/drive\n"
          ]
        }
      ],
      "source": [
        "from google.colab import drive\n",
        "drive.mount('/content/drive')"
      ]
    },
    {
      "cell_type": "code",
      "source": [
        "%cd /content/drive/MyDrive/GitHub"
      ],
      "metadata": {
        "id": "ybZcbZlBclww",
        "colab": {
          "base_uri": "https://localhost:8080/"
        },
        "outputId": "e0c23f59-4cd2-4d8a-b85c-85db0822baec"
      },
      "execution_count": 2,
      "outputs": [
        {
          "output_type": "stream",
          "name": "stdout",
          "text": [
            "/content/drive/MyDrive/GitHub\n"
          ]
        }
      ]
    },
    {
      "cell_type": "code",
      "source": [
        "repository = \"NAS_project\""
      ],
      "metadata": {
        "id": "tgj8z3YjcqsB"
      },
      "execution_count": 3,
      "outputs": []
    },
    {
      "cell_type": "code",
      "source": [
        "%cd {repository}"
      ],
      "metadata": {
        "id": "hCjRhZdwcrs4",
        "colab": {
          "base_uri": "https://localhost:8080/"
        },
        "outputId": "e73502a9-a3ce-4c33-d300-c9b715df6f06"
      },
      "execution_count": 4,
      "outputs": [
        {
          "output_type": "stream",
          "name": "stdout",
          "text": [
            "/content/drive/MyDrive/GitHub/NAS_project\n"
          ]
        }
      ]
    },
    {
      "cell_type": "code",
      "source": [
        "pip install nats_bench"
      ],
      "metadata": {
        "id": "6pW1eAFrczUX"
      },
      "execution_count": null,
      "outputs": []
    },
    {
      "cell_type": "code",
      "source": [
        "pip install yacs"
      ],
      "metadata": {
        "id": "EpSGj_ccc4KI"
      },
      "execution_count": null,
      "outputs": []
    },
    {
      "cell_type": "code",
      "source": [
        "pip install simplejson"
      ],
      "metadata": {
        "id": "zW5Pmym0c7TR"
      },
      "execution_count": null,
      "outputs": []
    },
    {
      "cell_type": "code",
      "source": [
        "pip install xautodl"
      ],
      "metadata": {
        "id": "e4BRbwA8c-aF"
      },
      "execution_count": null,
      "outputs": []
    },
    {
      "cell_type": "code",
      "source": [
        "pip install pytorchcv"
      ],
      "metadata": {
        "id": "gQHmOqI_iJId"
      },
      "execution_count": null,
      "outputs": []
    },
    {
      "cell_type": "code",
      "source": [
        "%env TORCH_HOME=/content/drive/MyDrive/NAS-PULITO/.torch"
      ],
      "metadata": {
        "colab": {
          "base_uri": "https://localhost:8080/"
        },
        "id": "VEheGLe8dGRK",
        "outputId": "8861e024-03f3-4e93-b482-42c32715a3e7"
      },
      "execution_count": 10,
      "outputs": [
        {
          "output_type": "stream",
          "name": "stdout",
          "text": [
            "env: TORCH_HOME=/content/drive/MyDrive/NAS-PULITO/.torch\n"
          ]
        }
      ]
    },
    {
      "cell_type": "code",
      "source": [
        "# import librerie\n",
        "\n",
        "# librerie già presenti nelle prime versioni\n",
        "import torch\n",
        "import argparse\n",
        "import datasets \n",
        "import nasspace\n",
        "import pandas as pd\n",
        "import csv\n",
        "import random\n",
        "import numpy as np\n",
        "from timeit import default_timer as timer\n",
        "import os\n",
        "from scipy import stats\n",
        "from nats_bench import create\n",
        "import xautodl  # import this lib -- \"https://github.com/D-X-Y/AutoDL-Projects\", you can use pip install xautodl\n",
        "from xautodl.models import get_cell_based_tiny_net\n",
        "\n",
        "#librerie nuove\n",
        "from pycls.models.nas.nas import Cell\n",
        "import pandas as pd\n",
        "from pytorchcv.model_provider import get_model as ptcv_get_model\n",
        "from pytorchcv.model_provider import _models as ptcv_models\n",
        "from pruners import *\n",
        "from pruners import predictive\n",
        "from tqdm import trange\n",
        "from statistics import mean\n",
        "from sklearn.preprocessing import normalize\n",
        "import matplotlib.pyplot as plt\n",
        "from timeit import default_timer as timer\n",
        "\n",
        "from GenNAS.builder_task import *\n",
        "from GenNAS.builder_model import *\n",
        "from GenNAS.builder_evaluator import *\n",
        "from GenNAS.utils.config_generator import *\n"
      ],
      "metadata": {
        "id": "l6JAXjXEdHYS"
      },
      "execution_count": 11,
      "outputs": []
    },
    {
      "cell_type": "code",
      "source": [
        "#SELECT DATASET\n",
        "#Dataset_name = \"Cifar-10\"\n",
        "#Dataset_name = \"Cifar-100\"\n",
        "Dataset_name = \"ImageNet\""
      ],
      "metadata": {
        "id": "p3VW6r7EYRxp"
      },
      "execution_count": 12,
      "outputs": []
    },
    {
      "cell_type": "code",
      "source": [
        "GPU = '0'\n",
        "seed = 1\n",
        "batch_size = 128\n",
        "\n",
        "#CIFAR10\n",
        "if Dataset_name == \"Cifar-10\":\n",
        "  dataset = 'cifar10'\n",
        "  data_loc = '/content/drive/MyDrive/Github/NAS-PULITO/cifar-10-batches-py'\n",
        "\n",
        "\n",
        "#CIFAR100\n",
        "if Dataset_name == \"Cifar-100\":\n",
        "  dataset = 'cifar100'\n",
        "  data_loc = \"/content/drive/MyDrive/NAS-PULITO/cifar-100-python\"\n",
        "\n",
        "#IMAGENET\n",
        "if Dataset_name == \"ImageNet\":\n",
        "  dataset = 'ImageNet16-120'\n",
        "  data_loc = \"/content/drive/MyDrive/NAS/.torch/ImageNet16\"\n",
        "\n"
      ],
      "metadata": {
        "id": "0t7HP6w6eD2q"
      },
      "execution_count": 14,
      "outputs": []
    },
    {
      "cell_type": "code",
      "source": [
        "os.environ['CUDA_VISIBLE_DEVICES'] = GPU\n",
        "\n",
        "# Reproducibility\n",
        "torch.backends.cudnn.deterministic = True\n",
        "torch.backends.cudnn.benchmark = False\n",
        "random.seed(seed)\n",
        "np.random.seed(seed)\n",
        "torch.manual_seed(seed)\n",
        "\n",
        "device = torch.device(\"cuda:0\" if torch.cuda.is_available() else \"cpu\")"
      ],
      "metadata": {
        "id": "7bKx87xQel8n"
      },
      "execution_count": 15,
      "outputs": []
    },
    {
      "cell_type": "code",
      "source": [
        "from timeit import default_timer as timer\n",
        "\n",
        "\n",
        "def get_num_classes():\n",
        "    return 100 if dataset == 'cifar100' else 10 if (dataset == 'cifar10') else 120\n"
      ],
      "metadata": {
        "id": "vxZvYkq0esHQ"
      },
      "execution_count": 16,
      "outputs": []
    },
    {
      "cell_type": "code",
      "source": [
        "from timeit import default_timer as timer\n",
        "import torch\n",
        "\n",
        "\n",
        "def get_naswot(network, x):\n",
        "  start = timer()\n",
        "  network = network.to(device)\n",
        "\n",
        "  def boolRelu_forward_hook(module, inp, out):\n",
        "    if isinstance(out, tuple):\n",
        "      out = out[0]\n",
        "    out = out.view(out.size(0), -1)   \n",
        "    x = (out > 0).float()  \n",
        "    network.boolRelu = torch.cat((network.boolRelu, x), -1)\n",
        "    \n",
        "  network.boolRelu = torch.tensor([])\n",
        "  network.boolRelu = network.boolRelu.to(device)\n",
        "\n",
        "  for name, module in network.named_modules(): \n",
        "    if (isinstance(module, torch.nn.modules.activation.ReLU)):\n",
        "      module.register_forward_hook(boolRelu_forward_hook)\n",
        "              \n",
        "\n",
        "  network(x)\n",
        "  k = (network.boolRelu @ network.boolRelu.t()) + ((1. - network.boolRelu) @ (1. - network.boolRelu.t()))\n",
        "  logdet = torch.linalg.slogdet(k)[1].cpu().detach()\n",
        "  end = timer()\n",
        "  torch.cuda.empty_cache()\n",
        "  return logdet\n",
        "  #return (logdet, (end - start))"
      ],
      "metadata": {
        "id": "rZTei2yNfFZv"
      },
      "execution_count": 17,
      "outputs": []
    },
    {
      "cell_type": "code",
      "source": [
        "\n",
        "\n",
        "def get_uid_and_measure(uid, input, metric_name, population = None):\n",
        "  uid = int(uid)\n",
        "  network = searchspace.get_network(uid)\n",
        "  network.to(device)\n",
        "  if metric_name == \"Naswot\":\n",
        "    return uid, get_naswot(network, input).item()\n",
        "  else:\n",
        "    return 0"
      ],
      "metadata": {
        "id": "h7cSA1fNftMi"
      },
      "execution_count": 18,
      "outputs": []
    },
    {
      "cell_type": "code",
      "source": [
        "def get_uid_and_measures(uid_list, input, searchspace, metric_name):\n",
        "\n",
        "  naswot = []\n",
        "\n",
        "  if metric_name == \"Naswot\":\n",
        "    for uid in uid_list:\n",
        "      network = searchspace.get_network(int(uid))\n",
        "      network.to(device)\n",
        "      naswot.append([uid, get_naswot(network, input).item()])\n",
        "    return np.array(naswot)\n",
        "  else:\n",
        "    return 0"
      ],
      "metadata": {
        "id": "BKWeqA9vf-r1"
      },
      "execution_count": 25,
      "outputs": []
    },
    {
      "cell_type": "code",
      "source": [
        "import pandas as pd\n",
        "\n",
        "#CIFAR 10\n",
        "if Dataset_name == \"Cifar-10\":\n",
        "  df_iso = pd.read_csv('/content/drive/MyDrive/GitHub/NAS_project/naswot_cifar10_batch128_seed1_isomorf.csv')\n",
        "  df_non_iso = pd.read_csv('/content/drive/MyDrive/GitHub/NAS_project/naswot_cifar10_batch128_completo.csv')\n",
        "  df = df_non_iso.append(df_iso)\n",
        "\n",
        "#CIFAR100\n",
        "if Dataset_name == \"Cifar-100\":\n",
        "  df_iso = pd.read_csv('/content/drive/MyDrive/GitHub/NAS_project/naswot_cifar100_batch128_seed1_isomorf.csv')\n",
        "  df_non_iso = pd.read_csv('/content/drive/MyDrive/GitHub/NAS_project/naswot_cifar100_batch128_completo.csv')\n",
        "  df = df_non_iso.append(df_iso)\n",
        "\n",
        "#IMAGENET\n",
        "if Dataset_name == \"ImageNet\":\n",
        "  df = pd.read_csv('/content/drive/MyDrive/GitHub/NAS_project/naswot_ImageNet16-120_batch128_seed1_15625Arch.csv')\n",
        "\n",
        "\n",
        "display(df)"
      ],
      "metadata": {
        "colab": {
          "base_uri": "https://localhost:8080/",
          "height": 424
        },
        "id": "XKtI4q4LjviR",
        "outputId": "d47a954e-f1a8-4984-fd8b-f201ebf85dfd"
      },
      "execution_count": 20,
      "outputs": [
        {
          "output_type": "display_data",
          "data": {
            "text/plain": [
              "       Unnamed: 0  arch_id                                           uniqArch  \\\n",
              "0               0        0  (0)@avg_pool_3x3+(0)@avg_pool_3x3+(0)@nor_conv...   \n",
              "1               1        1  ((0)@nor_conv_3x3)@avg_pool_3x3+(0)@nor_conv_3...   \n",
              "2               2        2  (((0)@avg_pool_3x3)@nor_conv_3x3+(0)@nor_conv_...   \n",
              "3               3        3                                            #+#+#+0   \n",
              "4               4        4              ((0)@nor_conv_1x1+0)@nor_conv_1x1+0+0   \n",
              "...           ...      ...                                                ...   \n",
              "15620        9155    15620                                              #+#+0   \n",
              "15621        9156    15621                #+((0)@avg_pool_3x3)@nor_conv_1x1+0   \n",
              "15622        9157    15622  #+((0)@nor_conv_3x3+(0)@nor_conv_3x3)@nor_conv...   \n",
              "15623        9158    15623  #+(#+(0)@avg_pool_3x3)@avg_pool_3x3+(0)@avg_po...   \n",
              "15624        6465    15624  #+(#+((0)@nor_conv_1x1)@nor_conv_1x1)@nor_conv...   \n",
              "\n",
              "             score      time        acc  \n",
              "0      1281.548950  0.055238  28.211111  \n",
              "1      1380.631348  0.058419  44.488889  \n",
              "2      1263.264526  0.042976  27.633333  \n",
              "3      1047.412598  0.028810  29.433333  \n",
              "4      1309.597046  0.041116  32.144444  \n",
              "...            ...       ...        ...  \n",
              "15620  1054.735596  0.030721  29.822222  \n",
              "15621  1227.618652  0.034945  31.800000  \n",
              "15622  1390.784668  0.049597  41.855555  \n",
              "15623   962.202087  0.030363  14.411111  \n",
              "15624  1434.844238  0.054381  21.388889  \n",
              "\n",
              "[15625 rows x 6 columns]"
            ],
            "text/html": [
              "\n",
              "  <div id=\"df-7375732c-85d3-4626-b139-ff176b2cee18\">\n",
              "    <div class=\"colab-df-container\">\n",
              "      <div>\n",
              "<style scoped>\n",
              "    .dataframe tbody tr th:only-of-type {\n",
              "        vertical-align: middle;\n",
              "    }\n",
              "\n",
              "    .dataframe tbody tr th {\n",
              "        vertical-align: top;\n",
              "    }\n",
              "\n",
              "    .dataframe thead th {\n",
              "        text-align: right;\n",
              "    }\n",
              "</style>\n",
              "<table border=\"1\" class=\"dataframe\">\n",
              "  <thead>\n",
              "    <tr style=\"text-align: right;\">\n",
              "      <th></th>\n",
              "      <th>Unnamed: 0</th>\n",
              "      <th>arch_id</th>\n",
              "      <th>uniqArch</th>\n",
              "      <th>score</th>\n",
              "      <th>time</th>\n",
              "      <th>acc</th>\n",
              "    </tr>\n",
              "  </thead>\n",
              "  <tbody>\n",
              "    <tr>\n",
              "      <th>0</th>\n",
              "      <td>0</td>\n",
              "      <td>0</td>\n",
              "      <td>(0)@avg_pool_3x3+(0)@avg_pool_3x3+(0)@nor_conv...</td>\n",
              "      <td>1281.548950</td>\n",
              "      <td>0.055238</td>\n",
              "      <td>28.211111</td>\n",
              "    </tr>\n",
              "    <tr>\n",
              "      <th>1</th>\n",
              "      <td>1</td>\n",
              "      <td>1</td>\n",
              "      <td>((0)@nor_conv_3x3)@avg_pool_3x3+(0)@nor_conv_3...</td>\n",
              "      <td>1380.631348</td>\n",
              "      <td>0.058419</td>\n",
              "      <td>44.488889</td>\n",
              "    </tr>\n",
              "    <tr>\n",
              "      <th>2</th>\n",
              "      <td>2</td>\n",
              "      <td>2</td>\n",
              "      <td>(((0)@avg_pool_3x3)@nor_conv_3x3+(0)@nor_conv_...</td>\n",
              "      <td>1263.264526</td>\n",
              "      <td>0.042976</td>\n",
              "      <td>27.633333</td>\n",
              "    </tr>\n",
              "    <tr>\n",
              "      <th>3</th>\n",
              "      <td>3</td>\n",
              "      <td>3</td>\n",
              "      <td>#+#+#+0</td>\n",
              "      <td>1047.412598</td>\n",
              "      <td>0.028810</td>\n",
              "      <td>29.433333</td>\n",
              "    </tr>\n",
              "    <tr>\n",
              "      <th>4</th>\n",
              "      <td>4</td>\n",
              "      <td>4</td>\n",
              "      <td>((0)@nor_conv_1x1+0)@nor_conv_1x1+0+0</td>\n",
              "      <td>1309.597046</td>\n",
              "      <td>0.041116</td>\n",
              "      <td>32.144444</td>\n",
              "    </tr>\n",
              "    <tr>\n",
              "      <th>...</th>\n",
              "      <td>...</td>\n",
              "      <td>...</td>\n",
              "      <td>...</td>\n",
              "      <td>...</td>\n",
              "      <td>...</td>\n",
              "      <td>...</td>\n",
              "    </tr>\n",
              "    <tr>\n",
              "      <th>15620</th>\n",
              "      <td>9155</td>\n",
              "      <td>15620</td>\n",
              "      <td>#+#+0</td>\n",
              "      <td>1054.735596</td>\n",
              "      <td>0.030721</td>\n",
              "      <td>29.822222</td>\n",
              "    </tr>\n",
              "    <tr>\n",
              "      <th>15621</th>\n",
              "      <td>9156</td>\n",
              "      <td>15621</td>\n",
              "      <td>#+((0)@avg_pool_3x3)@nor_conv_1x1+0</td>\n",
              "      <td>1227.618652</td>\n",
              "      <td>0.034945</td>\n",
              "      <td>31.800000</td>\n",
              "    </tr>\n",
              "    <tr>\n",
              "      <th>15622</th>\n",
              "      <td>9157</td>\n",
              "      <td>15622</td>\n",
              "      <td>#+((0)@nor_conv_3x3+(0)@nor_conv_3x3)@nor_conv...</td>\n",
              "      <td>1390.784668</td>\n",
              "      <td>0.049597</td>\n",
              "      <td>41.855555</td>\n",
              "    </tr>\n",
              "    <tr>\n",
              "      <th>15623</th>\n",
              "      <td>9158</td>\n",
              "      <td>15623</td>\n",
              "      <td>#+(#+(0)@avg_pool_3x3)@avg_pool_3x3+(0)@avg_po...</td>\n",
              "      <td>962.202087</td>\n",
              "      <td>0.030363</td>\n",
              "      <td>14.411111</td>\n",
              "    </tr>\n",
              "    <tr>\n",
              "      <th>15624</th>\n",
              "      <td>6465</td>\n",
              "      <td>15624</td>\n",
              "      <td>#+(#+((0)@nor_conv_1x1)@nor_conv_1x1)@nor_conv...</td>\n",
              "      <td>1434.844238</td>\n",
              "      <td>0.054381</td>\n",
              "      <td>21.388889</td>\n",
              "    </tr>\n",
              "  </tbody>\n",
              "</table>\n",
              "<p>15625 rows × 6 columns</p>\n",
              "</div>\n",
              "      <button class=\"colab-df-convert\" onclick=\"convertToInteractive('df-7375732c-85d3-4626-b139-ff176b2cee18')\"\n",
              "              title=\"Convert this dataframe to an interactive table.\"\n",
              "              style=\"display:none;\">\n",
              "        \n",
              "  <svg xmlns=\"http://www.w3.org/2000/svg\" height=\"24px\"viewBox=\"0 0 24 24\"\n",
              "       width=\"24px\">\n",
              "    <path d=\"M0 0h24v24H0V0z\" fill=\"none\"/>\n",
              "    <path d=\"M18.56 5.44l.94 2.06.94-2.06 2.06-.94-2.06-.94-.94-2.06-.94 2.06-2.06.94zm-11 1L8.5 8.5l.94-2.06 2.06-.94-2.06-.94L8.5 2.5l-.94 2.06-2.06.94zm10 10l.94 2.06.94-2.06 2.06-.94-2.06-.94-.94-2.06-.94 2.06-2.06.94z\"/><path d=\"M17.41 7.96l-1.37-1.37c-.4-.4-.92-.59-1.43-.59-.52 0-1.04.2-1.43.59L10.3 9.45l-7.72 7.72c-.78.78-.78 2.05 0 2.83L4 21.41c.39.39.9.59 1.41.59.51 0 1.02-.2 1.41-.59l7.78-7.78 2.81-2.81c.8-.78.8-2.07 0-2.86zM5.41 20L4 18.59l7.72-7.72 1.47 1.35L5.41 20z\"/>\n",
              "  </svg>\n",
              "      </button>\n",
              "      \n",
              "  <style>\n",
              "    .colab-df-container {\n",
              "      display:flex;\n",
              "      flex-wrap:wrap;\n",
              "      gap: 12px;\n",
              "    }\n",
              "\n",
              "    .colab-df-convert {\n",
              "      background-color: #E8F0FE;\n",
              "      border: none;\n",
              "      border-radius: 50%;\n",
              "      cursor: pointer;\n",
              "      display: none;\n",
              "      fill: #1967D2;\n",
              "      height: 32px;\n",
              "      padding: 0 0 0 0;\n",
              "      width: 32px;\n",
              "    }\n",
              "\n",
              "    .colab-df-convert:hover {\n",
              "      background-color: #E2EBFA;\n",
              "      box-shadow: 0px 1px 2px rgba(60, 64, 67, 0.3), 0px 1px 3px 1px rgba(60, 64, 67, 0.15);\n",
              "      fill: #174EA6;\n",
              "    }\n",
              "\n",
              "    [theme=dark] .colab-df-convert {\n",
              "      background-color: #3B4455;\n",
              "      fill: #D2E3FC;\n",
              "    }\n",
              "\n",
              "    [theme=dark] .colab-df-convert:hover {\n",
              "      background-color: #434B5C;\n",
              "      box-shadow: 0px 1px 3px 1px rgba(0, 0, 0, 0.15);\n",
              "      filter: drop-shadow(0px 1px 2px rgba(0, 0, 0, 0.3));\n",
              "      fill: #FFFFFF;\n",
              "    }\n",
              "  </style>\n",
              "\n",
              "      <script>\n",
              "        const buttonEl =\n",
              "          document.querySelector('#df-7375732c-85d3-4626-b139-ff176b2cee18 button.colab-df-convert');\n",
              "        buttonEl.style.display =\n",
              "          google.colab.kernel.accessAllowed ? 'block' : 'none';\n",
              "\n",
              "        async function convertToInteractive(key) {\n",
              "          const element = document.querySelector('#df-7375732c-85d3-4626-b139-ff176b2cee18');\n",
              "          const dataTable =\n",
              "            await google.colab.kernel.invokeFunction('convertToInteractive',\n",
              "                                                     [key], {});\n",
              "          if (!dataTable) return;\n",
              "\n",
              "          const docLinkHtml = 'Like what you see? Visit the ' +\n",
              "            '<a target=\"_blank\" href=https://colab.research.google.com/notebooks/data_table.ipynb>data table notebook</a>'\n",
              "            + ' to learn more about interactive tables.';\n",
              "          element.innerHTML = '';\n",
              "          dataTable['output_type'] = 'display_data';\n",
              "          await google.colab.output.renderOutput(dataTable, element);\n",
              "          const docLink = document.createElement('div');\n",
              "          docLink.innerHTML = docLinkHtml;\n",
              "          element.appendChild(docLink);\n",
              "        }\n",
              "      </script>\n",
              "    </div>\n",
              "  </div>\n",
              "  "
            ]
          },
          "metadata": {}
        }
      ]
    },
    {
      "cell_type": "code",
      "source": [
        "display(df.sort_values(by=[\"acc\"]))"
      ],
      "metadata": {
        "colab": {
          "base_uri": "https://localhost:8080/",
          "height": 424
        },
        "id": "PfKJQbWR8nC6",
        "outputId": "daf72435-ee3d-441f-a9a6-932b4fb5fd07"
      },
      "execution_count": 21,
      "outputs": [
        {
          "output_type": "display_data",
          "data": {
            "text/plain": [
              "       Unnamed: 0  arch_id                                           uniqArch  \\\n",
              "13286        7642    13286                             #+#+(#+#)@nor_conv_3x3   \n",
              "12746        7297    12746                                              #+#+#   \n",
              "13078        7506    13078                                              #+#+#   \n",
              "8354         4448     8354                                              #+#+#   \n",
              "632           156      632                             #+#+(#+#)@avg_pool_3x3   \n",
              "...           ...      ...                                                ...   \n",
              "8449         3936     8449  (#+((0)@nor_conv_3x3)@nor_conv_3x3)@nor_conv_1...   \n",
              "11777        5099    11777  #+(((0)@nor_conv_3x3)@nor_conv_3x3+(0)@nor_con...   \n",
              "3731         2003     3731  (((0)@nor_conv_3x3)@nor_conv_3x3+(0)@nor_conv_...   \n",
              "3888         2082     3888  (((0)@nor_conv_1x1)@nor_conv_3x3+(0)@nor_conv_...   \n",
              "10676        4724    10676  (((0)@nor_conv_3x3)@nor_conv_1x1+(0)@nor_conv_...   \n",
              "\n",
              "             score      time        acc  \n",
              "13286         -inf  0.036226   0.833333  \n",
              "12746  1056.087158  0.050810   0.833333  \n",
              "13078  1056.087158  0.050810   0.833333  \n",
              "8354   1056.087158  0.050810   0.833333  \n",
              "632           -inf  0.038140   0.833333  \n",
              "...            ...       ...        ...  \n",
              "8449   1423.089355  0.063976  46.500000  \n",
              "11777  1453.754639  0.063623  46.516667  \n",
              "3731   1447.406860  0.061208  46.555555  \n",
              "3888   1450.777466  0.066033  46.683333  \n",
              "10676  1447.762207  0.060038  46.733333  \n",
              "\n",
              "[15625 rows x 6 columns]"
            ],
            "text/html": [
              "\n",
              "  <div id=\"df-df038ebe-5fd6-47ef-8411-9dbb67098ea0\">\n",
              "    <div class=\"colab-df-container\">\n",
              "      <div>\n",
              "<style scoped>\n",
              "    .dataframe tbody tr th:only-of-type {\n",
              "        vertical-align: middle;\n",
              "    }\n",
              "\n",
              "    .dataframe tbody tr th {\n",
              "        vertical-align: top;\n",
              "    }\n",
              "\n",
              "    .dataframe thead th {\n",
              "        text-align: right;\n",
              "    }\n",
              "</style>\n",
              "<table border=\"1\" class=\"dataframe\">\n",
              "  <thead>\n",
              "    <tr style=\"text-align: right;\">\n",
              "      <th></th>\n",
              "      <th>Unnamed: 0</th>\n",
              "      <th>arch_id</th>\n",
              "      <th>uniqArch</th>\n",
              "      <th>score</th>\n",
              "      <th>time</th>\n",
              "      <th>acc</th>\n",
              "    </tr>\n",
              "  </thead>\n",
              "  <tbody>\n",
              "    <tr>\n",
              "      <th>13286</th>\n",
              "      <td>7642</td>\n",
              "      <td>13286</td>\n",
              "      <td>#+#+(#+#)@nor_conv_3x3</td>\n",
              "      <td>-inf</td>\n",
              "      <td>0.036226</td>\n",
              "      <td>0.833333</td>\n",
              "    </tr>\n",
              "    <tr>\n",
              "      <th>12746</th>\n",
              "      <td>7297</td>\n",
              "      <td>12746</td>\n",
              "      <td>#+#+#</td>\n",
              "      <td>1056.087158</td>\n",
              "      <td>0.050810</td>\n",
              "      <td>0.833333</td>\n",
              "    </tr>\n",
              "    <tr>\n",
              "      <th>13078</th>\n",
              "      <td>7506</td>\n",
              "      <td>13078</td>\n",
              "      <td>#+#+#</td>\n",
              "      <td>1056.087158</td>\n",
              "      <td>0.050810</td>\n",
              "      <td>0.833333</td>\n",
              "    </tr>\n",
              "    <tr>\n",
              "      <th>8354</th>\n",
              "      <td>4448</td>\n",
              "      <td>8354</td>\n",
              "      <td>#+#+#</td>\n",
              "      <td>1056.087158</td>\n",
              "      <td>0.050810</td>\n",
              "      <td>0.833333</td>\n",
              "    </tr>\n",
              "    <tr>\n",
              "      <th>632</th>\n",
              "      <td>156</td>\n",
              "      <td>632</td>\n",
              "      <td>#+#+(#+#)@avg_pool_3x3</td>\n",
              "      <td>-inf</td>\n",
              "      <td>0.038140</td>\n",
              "      <td>0.833333</td>\n",
              "    </tr>\n",
              "    <tr>\n",
              "      <th>...</th>\n",
              "      <td>...</td>\n",
              "      <td>...</td>\n",
              "      <td>...</td>\n",
              "      <td>...</td>\n",
              "      <td>...</td>\n",
              "      <td>...</td>\n",
              "    </tr>\n",
              "    <tr>\n",
              "      <th>8449</th>\n",
              "      <td>3936</td>\n",
              "      <td>8449</td>\n",
              "      <td>(#+((0)@nor_conv_3x3)@nor_conv_3x3)@nor_conv_1...</td>\n",
              "      <td>1423.089355</td>\n",
              "      <td>0.063976</td>\n",
              "      <td>46.500000</td>\n",
              "    </tr>\n",
              "    <tr>\n",
              "      <th>11777</th>\n",
              "      <td>5099</td>\n",
              "      <td>11777</td>\n",
              "      <td>#+(((0)@nor_conv_3x3)@nor_conv_3x3+(0)@nor_con...</td>\n",
              "      <td>1453.754639</td>\n",
              "      <td>0.063623</td>\n",
              "      <td>46.516667</td>\n",
              "    </tr>\n",
              "    <tr>\n",
              "      <th>3731</th>\n",
              "      <td>2003</td>\n",
              "      <td>3731</td>\n",
              "      <td>(((0)@nor_conv_3x3)@nor_conv_3x3+(0)@nor_conv_...</td>\n",
              "      <td>1447.406860</td>\n",
              "      <td>0.061208</td>\n",
              "      <td>46.555555</td>\n",
              "    </tr>\n",
              "    <tr>\n",
              "      <th>3888</th>\n",
              "      <td>2082</td>\n",
              "      <td>3888</td>\n",
              "      <td>(((0)@nor_conv_1x1)@nor_conv_3x3+(0)@nor_conv_...</td>\n",
              "      <td>1450.777466</td>\n",
              "      <td>0.066033</td>\n",
              "      <td>46.683333</td>\n",
              "    </tr>\n",
              "    <tr>\n",
              "      <th>10676</th>\n",
              "      <td>4724</td>\n",
              "      <td>10676</td>\n",
              "      <td>(((0)@nor_conv_3x3)@nor_conv_1x1+(0)@nor_conv_...</td>\n",
              "      <td>1447.762207</td>\n",
              "      <td>0.060038</td>\n",
              "      <td>46.733333</td>\n",
              "    </tr>\n",
              "  </tbody>\n",
              "</table>\n",
              "<p>15625 rows × 6 columns</p>\n",
              "</div>\n",
              "      <button class=\"colab-df-convert\" onclick=\"convertToInteractive('df-df038ebe-5fd6-47ef-8411-9dbb67098ea0')\"\n",
              "              title=\"Convert this dataframe to an interactive table.\"\n",
              "              style=\"display:none;\">\n",
              "        \n",
              "  <svg xmlns=\"http://www.w3.org/2000/svg\" height=\"24px\"viewBox=\"0 0 24 24\"\n",
              "       width=\"24px\">\n",
              "    <path d=\"M0 0h24v24H0V0z\" fill=\"none\"/>\n",
              "    <path d=\"M18.56 5.44l.94 2.06.94-2.06 2.06-.94-2.06-.94-.94-2.06-.94 2.06-2.06.94zm-11 1L8.5 8.5l.94-2.06 2.06-.94-2.06-.94L8.5 2.5l-.94 2.06-2.06.94zm10 10l.94 2.06.94-2.06 2.06-.94-2.06-.94-.94-2.06-.94 2.06-2.06.94z\"/><path d=\"M17.41 7.96l-1.37-1.37c-.4-.4-.92-.59-1.43-.59-.52 0-1.04.2-1.43.59L10.3 9.45l-7.72 7.72c-.78.78-.78 2.05 0 2.83L4 21.41c.39.39.9.59 1.41.59.51 0 1.02-.2 1.41-.59l7.78-7.78 2.81-2.81c.8-.78.8-2.07 0-2.86zM5.41 20L4 18.59l7.72-7.72 1.47 1.35L5.41 20z\"/>\n",
              "  </svg>\n",
              "      </button>\n",
              "      \n",
              "  <style>\n",
              "    .colab-df-container {\n",
              "      display:flex;\n",
              "      flex-wrap:wrap;\n",
              "      gap: 12px;\n",
              "    }\n",
              "\n",
              "    .colab-df-convert {\n",
              "      background-color: #E8F0FE;\n",
              "      border: none;\n",
              "      border-radius: 50%;\n",
              "      cursor: pointer;\n",
              "      display: none;\n",
              "      fill: #1967D2;\n",
              "      height: 32px;\n",
              "      padding: 0 0 0 0;\n",
              "      width: 32px;\n",
              "    }\n",
              "\n",
              "    .colab-df-convert:hover {\n",
              "      background-color: #E2EBFA;\n",
              "      box-shadow: 0px 1px 2px rgba(60, 64, 67, 0.3), 0px 1px 3px 1px rgba(60, 64, 67, 0.15);\n",
              "      fill: #174EA6;\n",
              "    }\n",
              "\n",
              "    [theme=dark] .colab-df-convert {\n",
              "      background-color: #3B4455;\n",
              "      fill: #D2E3FC;\n",
              "    }\n",
              "\n",
              "    [theme=dark] .colab-df-convert:hover {\n",
              "      background-color: #434B5C;\n",
              "      box-shadow: 0px 1px 3px 1px rgba(0, 0, 0, 0.15);\n",
              "      filter: drop-shadow(0px 1px 2px rgba(0, 0, 0, 0.3));\n",
              "      fill: #FFFFFF;\n",
              "    }\n",
              "  </style>\n",
              "\n",
              "      <script>\n",
              "        const buttonEl =\n",
              "          document.querySelector('#df-df038ebe-5fd6-47ef-8411-9dbb67098ea0 button.colab-df-convert');\n",
              "        buttonEl.style.display =\n",
              "          google.colab.kernel.accessAllowed ? 'block' : 'none';\n",
              "\n",
              "        async function convertToInteractive(key) {\n",
              "          const element = document.querySelector('#df-df038ebe-5fd6-47ef-8411-9dbb67098ea0');\n",
              "          const dataTable =\n",
              "            await google.colab.kernel.invokeFunction('convertToInteractive',\n",
              "                                                     [key], {});\n",
              "          if (!dataTable) return;\n",
              "\n",
              "          const docLinkHtml = 'Like what you see? Visit the ' +\n",
              "            '<a target=\"_blank\" href=https://colab.research.google.com/notebooks/data_table.ipynb>data table notebook</a>'\n",
              "            + ' to learn more about interactive tables.';\n",
              "          element.innerHTML = '';\n",
              "          dataTable['output_type'] = 'display_data';\n",
              "          await google.colab.output.renderOutput(dataTable, element);\n",
              "          const docLink = document.createElement('div');\n",
              "          docLink.innerHTML = docLinkHtml;\n",
              "          element.appendChild(docLink);\n",
              "        }\n",
              "      </script>\n",
              "    </div>\n",
              "  </div>\n",
              "  "
            ]
          },
          "metadata": {}
        }
      ]
    },
    {
      "cell_type": "code",
      "source": [
        "df_config = pd.read_csv(\"conf.csv\")"
      ],
      "metadata": {
        "id": "6Ad9Tir0x4ht"
      },
      "execution_count": 22,
      "outputs": []
    },
    {
      "cell_type": "code",
      "source": [
        "searchspace = nasspace.get_search_space(dataset, df_config.conf)\n",
        "train_loader = datasets.get_data(dataset, data_loc, batch_size)\n",
        "\n",
        "data_iterator = iter(train_loader)\n",
        "input, target = next(data_iterator)\n",
        "input, target = input.to(device), target.to(device)"
      ],
      "metadata": {
        "colab": {
          "base_uri": "https://localhost:8080/"
        },
        "id": "Y3gbWoWVx8tk",
        "outputId": "3c06eda5-93d2-4e68-f8a6-2d1de7a6f219"
      },
      "execution_count": 23,
      "outputs": [
        {
          "output_type": "stream",
          "name": "stdout",
          "text": [
            "[2022-08-28 20:30:40] Try to use the default NATS-Bench (topology) path from fast_mode=True and path=None.\n"
          ]
        }
      ]
    },
    {
      "cell_type": "markdown",
      "source": [
        "# Calcolo rea con naswot"
      ],
      "metadata": {
        "id": "zh5OWISoJFRz"
      }
    },
    {
      "cell_type": "code",
      "source": [
        "from numpy.random import default_rng\n",
        "\n",
        "Number_experiments = 3\n",
        "filename = f'ReaNASWOT_on_{dataset}_in_{Number_experiments}_experimets.csv'\n",
        "arch_dict = []\n",
        "\n",
        "arch_info = ['arch_id' , 'time', 'test_acc']\n",
        "history = []\n",
        "from numpy.random import default_rng\n",
        "population_size=20 \n",
        "n_sample=5\n",
        "cycles= 60\n",
        "time_budget = 10 #in secondi per un singolo esperimento\n",
        "\n",
        "for j in range(0,Number_experiments):\n",
        "  print(j)\n",
        "\n",
        "  best_arch = 0\n",
        "  history = []\n",
        "\n",
        "  start = timer()\n",
        "  uid_population =  random.sample(range(len(searchspace)),population_size)\n",
        "  population =  get_uid_and_measures(uid_population, input, searchspace, \"Naswot\") \n",
        "  history = population.copy()\n",
        "\n",
        "  start_timer = timer()\n",
        "  budget_timer = 0\n",
        "  while budget_timer <= time_budget:\n",
        "    control_timer = timer()\n",
        "    budget_timer = -(start_timer-control_timer)\n",
        "    uid_sample = random.sample(range(len(population)),n_sample)\n",
        "    sample = population[uid_sample]\n",
        "    parent = max(sample, key=lambda i: i[1])\n",
        "    child_idx = searchspace.mutate_arch(int(parent[0]))\n",
        "\n",
        "    if child_idx not in history[:,0]:\n",
        "\n",
        "      uid_and_measure = np.array(get_uid_and_measure(child_idx, input, \"Naswot\", population))\n",
        "      population = np.delete(population, 0, axis=0)\n",
        "      population = np.vstack((population, uid_and_measure))\n",
        "      history = np.vstack((history, uid_and_measure))\n",
        "\n",
        "  select_from_history = history[history[:,1] == max(history[:,1])]\n",
        "  print(select_from_history)\n",
        "  best_arch = select_from_history[0][0]\n",
        "  print(searchspace.get_final_accuracy(int(best_arch)))\n",
        "\n",
        "  arch_dict.append({'arch_id' : int(best_arch), \"time\": time_budget , 'test_acc': searchspace.get_final_accuracy(int(best_arch)) })\n",
        "\n",
        "  with open(filename, 'w') as csvfile:\n",
        "    writer = csv.DictWriter(csvfile, fieldnames = arch_info)\n",
        "    writer.writeheader()\n",
        "    writer.writerows(arch_dict)\n",
        "\n",
        "\n",
        "\n",
        "\n"
      ],
      "metadata": {
        "id": "YaU6oworq2LB"
      },
      "execution_count": null,
      "outputs": []
    },
    {
      "cell_type": "code",
      "source": [
        "ReaNASWOT_on_ImageNet16_120 = pd.read_csv(\"/content/drive/MyDrive/GitHub/NAS_project/ReaNASWOT_on_ImageNet16-120_in_30_experimets_time1.csv\")\n",
        "print(ReaNASWOT_on_ImageNet16_120.mean())\n",
        "print(ReaNASWOT_on_ImageNet16_120.std())"
      ],
      "metadata": {
        "colab": {
          "base_uri": "https://localhost:8080/"
        },
        "id": "wfU2O5AlynUL",
        "outputId": "c6d3e2e7-a99c-4399-e027-2fff069f3cb9"
      },
      "execution_count": null,
      "outputs": [
        {
          "output_type": "stream",
          "name": "stdout",
          "text": [
            "arch_id     8288.266667\n",
            "time           8.090000\n",
            "test_acc      43.697593\n",
            "dtype: float64\n",
            "arch_id     4364.48443\n",
            "time           0.00000\n",
            "test_acc       3.01780\n",
            "dtype: float64\n"
          ]
        }
      ]
    },
    {
      "cell_type": "code",
      "source": [
        "ReaNASWOT_on_ImageNet16_120 = pd.read_csv(\"/content/drive/MyDrive/GitHub/NAS_project/ReaNASWOT_on_ImageNet16-120_in_30_experimets.csv\")\n",
        "print(ReaNASWOT_on_ImageNet16_120.mean())\n",
        "print(ReaNASWOT_on_ImageNet16_120.std())"
      ],
      "metadata": {
        "colab": {
          "base_uri": "https://localhost:8080/"
        },
        "id": "moGWHxpO3YBC",
        "outputId": "2fd80086-b89f-4ad5-c59c-071a85fd13e6"
      },
      "execution_count": null,
      "outputs": [
        {
          "output_type": "stream",
          "name": "stdout",
          "text": [
            "arch_id     7742.333333\n",
            "time          77.000000\n",
            "test_acc      42.817593\n",
            "dtype: float64\n",
            "arch_id     4790.997386\n",
            "time           0.000000\n",
            "test_acc       3.425127\n",
            "dtype: float64\n"
          ]
        }
      ]
    }
  ]
}