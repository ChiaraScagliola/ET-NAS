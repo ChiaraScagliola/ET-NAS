{
  "cells": [
    {
      "cell_type": "markdown",
      "metadata": {
        "id": "wW7wcc7xND-A"
      },
      "source": [
        "# 12 Epochs"
      ]
    },
    {
      "cell_type": "code",
      "execution_count": null,
      "metadata": {
        "colab": {
          "base_uri": "https://localhost:8080/"
        },
        "id": "bCN0156JQiZc",
        "outputId": "ea4f8ea7-d974-4e8c-a49e-74e4dbf0109f"
      },
      "outputs": [
        {
          "output_type": "stream",
          "name": "stdout",
          "text": [
            "Drive already mounted at /content/drive; to attempt to forcibly remount, call drive.mount(\"/content/drive\", force_remount=True).\n"
          ]
        }
      ],
      "source": [
        "from google.colab import drive\n",
        "drive.mount('/content/drive')"
      ]
    },
    {
      "cell_type": "code",
      "execution_count": null,
      "metadata": {
        "colab": {
          "base_uri": "https://localhost:8080/"
        },
        "id": "091dHNf6Rtj9",
        "outputId": "e871ad32-d7ab-4649-ce23-d4039181c806"
      },
      "outputs": [
        {
          "output_type": "stream",
          "name": "stdout",
          "text": [
            "/content/drive/MyDrive/GitHub\n"
          ]
        }
      ],
      "source": [
        "%cd /content/drive/MyDrive/GitHub"
      ]
    },
    {
      "cell_type": "code",
      "execution_count": null,
      "metadata": {
        "id": "cvFYjtMqNry_"
      },
      "outputs": [],
      "source": [
        "repository = \"NAS_project\""
      ]
    },
    {
      "cell_type": "code",
      "execution_count": null,
      "metadata": {
        "colab": {
          "base_uri": "https://localhost:8080/"
        },
        "id": "BrUNlzm7Okjp",
        "outputId": "8b6bb178-47e2-4c04-a355-dee09f778267"
      },
      "outputs": [
        {
          "output_type": "stream",
          "name": "stdout",
          "text": [
            "/content/drive/MyDrive/GitHub/NAS_project\n"
          ]
        }
      ],
      "source": [
        "%cd {repository}"
      ]
    },
    {
      "cell_type": "code",
      "execution_count": null,
      "metadata": {
        "id": "3_z0O1nFWOYg",
        "colab": {
          "base_uri": "https://localhost:8080/"
        },
        "outputId": "bf98f5d7-2de4-403d-a1df-79701f5b19c0"
      },
      "outputs": [
        {
          "output_type": "stream",
          "name": "stdout",
          "text": [
            "Looking in indexes: https://pypi.org/simple, https://us-python.pkg.dev/colab-wheels/public/simple/\n",
            "Requirement already satisfied: nats_bench in /usr/local/lib/python3.7/dist-packages (1.7)\n",
            "Requirement already satisfied: numpy>=1.16.5 in /usr/local/lib/python3.7/dist-packages (from nats_bench) (1.19.5)\n"
          ]
        }
      ],
      "source": [
        "pip install nats_bench"
      ]
    },
    {
      "cell_type": "code",
      "execution_count": null,
      "metadata": {
        "id": "90OfaHXWUe99",
        "colab": {
          "base_uri": "https://localhost:8080/"
        },
        "outputId": "12c3d1cc-7be4-4b88-a85f-f609f174e4a7"
      },
      "outputs": [
        {
          "output_type": "stream",
          "name": "stdout",
          "text": [
            "Looking in indexes: https://pypi.org/simple, https://us-python.pkg.dev/colab-wheels/public/simple/\n",
            "Requirement already satisfied: yacs in /usr/local/lib/python3.7/dist-packages (0.1.8)\n",
            "Requirement already satisfied: PyYAML in /usr/local/lib/python3.7/dist-packages (from yacs) (6.0)\n"
          ]
        }
      ],
      "source": [
        "pip install yacs"
      ]
    },
    {
      "cell_type": "code",
      "execution_count": null,
      "metadata": {
        "id": "SpiKYAd7Ujr9",
        "colab": {
          "base_uri": "https://localhost:8080/"
        },
        "outputId": "53e0b321-62b5-4ff5-9fed-dfbca249e7f4"
      },
      "outputs": [
        {
          "output_type": "stream",
          "name": "stdout",
          "text": [
            "Looking in indexes: https://pypi.org/simple, https://us-python.pkg.dev/colab-wheels/public/simple/\n",
            "Requirement already satisfied: simplejson in /usr/local/lib/python3.7/dist-packages (3.17.6)\n"
          ]
        }
      ],
      "source": [
        "pip install simplejson"
      ]
    },
    {
      "cell_type": "code",
      "execution_count": null,
      "metadata": {
        "id": "XOZVCnm6Umeu",
        "colab": {
          "base_uri": "https://localhost:8080/"
        },
        "outputId": "ed47f862-f5c2-4abc-ef1e-77bc5579af3a"
      },
      "outputs": [
        {
          "output_type": "stream",
          "name": "stdout",
          "text": [
            "Looking in indexes: https://pypi.org/simple, https://us-python.pkg.dev/colab-wheels/public/simple/\n",
            "Requirement already satisfied: xautodl in /usr/local/lib/python3.7/dist-packages (1.0.0)\n",
            "Requirement already satisfied: pyyaml>=5.0.0 in /usr/local/lib/python3.7/dist-packages (from xautodl) (6.0)\n",
            "Requirement already satisfied: fvcore in /usr/local/lib/python3.7/dist-packages (from xautodl) (0.1.5.post20220512)\n",
            "Requirement already satisfied: numpy<=1.19.5,>=1.16.5 in /usr/local/lib/python3.7/dist-packages (from xautodl) (1.19.5)\n",
            "Requirement already satisfied: Pillow in /usr/local/lib/python3.7/dist-packages (from fvcore->xautodl) (7.1.2)\n",
            "Requirement already satisfied: termcolor>=1.1 in /usr/local/lib/python3.7/dist-packages (from fvcore->xautodl) (1.1.0)\n",
            "Requirement already satisfied: yacs>=0.1.6 in /usr/local/lib/python3.7/dist-packages (from fvcore->xautodl) (0.1.8)\n",
            "Requirement already satisfied: tqdm in /usr/local/lib/python3.7/dist-packages (from fvcore->xautodl) (4.64.0)\n",
            "Requirement already satisfied: iopath>=0.1.7 in /usr/local/lib/python3.7/dist-packages (from fvcore->xautodl) (0.1.10)\n",
            "Requirement already satisfied: tabulate in /usr/local/lib/python3.7/dist-packages (from fvcore->xautodl) (0.8.10)\n",
            "Requirement already satisfied: typing-extensions in /usr/local/lib/python3.7/dist-packages (from iopath>=0.1.7->fvcore->xautodl) (4.1.1)\n",
            "Requirement already satisfied: portalocker in /usr/local/lib/python3.7/dist-packages (from iopath>=0.1.7->fvcore->xautodl) (2.5.1)\n"
          ]
        }
      ],
      "source": [
        "pip install xautodl"
      ]
    },
    {
      "cell_type": "code",
      "execution_count": null,
      "metadata": {
        "colab": {
          "base_uri": "https://localhost:8080/"
        },
        "id": "FJx86GeBT-oP",
        "outputId": "f89adf9b-e6b9-4885-f27a-744a5d251cc7"
      },
      "outputs": [
        {
          "output_type": "stream",
          "name": "stdout",
          "text": [
            "env: TORCH_HOME=/content/drive/MyDrive/NAS-PULITO/.torch\n"
          ]
        }
      ],
      "source": [
        "# setto una variabile d'ambiente TORCH_HOME\n",
        "%env TORCH_HOME=/content/drive/MyDrive/NAS-PULITO/.torch"
      ]
    },
    {
      "cell_type": "code",
      "execution_count": null,
      "metadata": {
        "id": "uqBX1_HJ1xCE"
      },
      "outputs": [],
      "source": [
        "#import delle library\n",
        "import torch\n",
        "import argparse\n",
        "import datasets \n",
        "import nasspace\n",
        "import pandas as pd\n",
        "import csv\n",
        "import random\n",
        "import numpy as np\n",
        "from timeit import default_timer as timer\n",
        "import os\n",
        "from scipy import stats\n",
        "from nats_bench import create\n",
        "import xautodl  # import this lib -- \"https://github.com/D-X-Y/AutoDL-Projects\", you can use pip install xautodl\n",
        "from xautodl.models import get_cell_based_tiny_net\n",
        "\n",
        "device = torch.device(\"cuda:0\" if torch.cuda.is_available() else \"cpu\")"
      ]
    },
    {
      "cell_type": "markdown",
      "metadata": {
        "id": "8iRIQfkBXz3T"
      },
      "source": [
        "## **Calcolo 12Hp**"
      ]
    },
    {
      "cell_type": "code",
      "execution_count": null,
      "metadata": {
        "id": "fa2OpefpXyJr"
      },
      "outputs": [],
      "source": [
        "number_experiments = 6\n",
        "results = []\n",
        "\n",
        "arch_info = ['arch_id','time','acc']\n",
        "\n",
        "device = torch.device(\"cuda:0\" if torch.cuda.is_available() else \"cpu\")\n",
        "\n",
        "\n",
        "GPU = '0'\n",
        "seed = 1\n",
        "batch_size = 128\n",
        "\n",
        "#Per Imagenet\n",
        "dataset = 'ImageNet16-120'\n",
        "data_loc = \"/content/drive/MyDrive/NAS/.torch/ImageNet16\"\n",
        "\n",
        "#per Cifar100\n",
        "#dataset = 'cifar100'\n",
        "#data_loc = \"/content/drive/MyDrive/NAS-PULITO/cifar-100-python\"\n",
        "\n",
        "#per Cifar10\n",
        "#dataset = 'cifar10'\n",
        "#data_loc = '/content/drive/MyDrive/NAS-PULITO/cifar-10-batches-py'\n",
        "\n",
        "save_loc = 'results'\n",
        "save_string = 'naswot'\n",
        "n_samples = 100\n",
        "save_loc = 'results'\n",
        "score_name = 'naswot'\n",
        "trainval = 0\n",
        "N = 10\n",
        "arch_dict = []\n",
        "\n",
        "df_config = pd.read_csv(\"conf.csv\")\n",
        "searchspace = nasspace.get_search_space(dataset, df_config.conf)\n",
        "train_loader = datasets.get_data(dataset, data_loc,batch_size)\n",
        "\n",
        "\n",
        "\n",
        "\n",
        "filename = f'12hpvalidation_on_{dataset}_in_{number_experiments}_experimetns_with_N={N}.csv'\n",
        "\n",
        "\n",
        "\n",
        "\n",
        "for i in range(number_experiments):\n",
        "  print(i)\n",
        "  cumulative_time = 0\n",
        "  best_accuracy = 0\n",
        "  best_arch = 0\n",
        "  for i in range(N):\n",
        "\n",
        "    random_arch_id = searchspace.random_arch()\n",
        "    cumulative_time += searchspace.get_training_time(random_arch_id)\n",
        "    current_accuracy_12epoch = searchspace.get_12epoch_accuracy(int(random_arch_id),\"x-valid\",False)\n",
        "    if current_accuracy_12epoch >= best_accuracy:\n",
        "      best_accuracy = current_accuracy_12epoch\n",
        "      best_arch = random_arch_id\n",
        "\n",
        "\n",
        "  arch_dict.append({'arch_id' : best_arch,'time': cumulative_time , 'acc' : searchspace.get_final_accuracy(best_arch)})\n",
        "   \n",
        "  with open(filename, 'w') as csvfile:\n",
        "    writer = csv.DictWriter(csvfile, fieldnames = arch_info)\n",
        "    writer.writeheader()\n",
        "    writer.writerows(arch_dict)\n",
        "  "
      ]
    },
    {
      "cell_type": "markdown",
      "metadata": {
        "id": "Pr_HiNMc-xJb"
      },
      "source": [
        "# RESULTS"
      ]
    },
    {
      "cell_type": "code",
      "execution_count": null,
      "metadata": {
        "colab": {
          "base_uri": "https://localhost:8080/"
        },
        "id": "QNeLEjTSMjmm",
        "outputId": "9809e306-ae91-4bda-8b99-9ee2e0821a56"
      },
      "outputs": [
        {
          "output_type": "stream",
          "name": "stdout",
          "text": [
            "arch_id    7367.433333\n",
            "time       1134.290214\n",
            "acc          92.642889\n",
            "dtype: float64\n",
            "arch_id    4120.581401\n",
            "time         85.741727\n",
            "acc           0.945563\n",
            "dtype: float64\n"
          ]
        }
      ],
      "source": [
        "validation12hp_on_cifar10 = pd.read_csv(\"/content/drive/MyDrive/GitHub/NAS_project/12hpvalidation_on_cifar10_in_30_experimetns_with_N=10.csv\")\n",
        "print(validation12hp_on_cifar10.mean())\n",
        "print(validation12hp_on_cifar10.std())"
      ]
    },
    {
      "cell_type": "code",
      "source": [
        "validation_on_cifar10 = pd.read_csv(\"/content/drive/MyDrive/GitHub/NAS_project/12hpvalidation_on_cifar10_in_30_experimetns_with_N=100.csv\")\n",
        "print(validation_on_cifar10.mean())\n",
        "print(validation_on_cifar10.std())"
      ],
      "metadata": {
        "colab": {
          "base_uri": "https://localhost:8080/"
        },
        "id": "x7ez1GMA7v33",
        "outputId": "86a2bcb8-2096-47f1-ed1a-b254b6adcb48"
      },
      "execution_count": null,
      "outputs": [
        {
          "output_type": "stream",
          "name": "stdout",
          "text": [
            "arch_id    11223.000000\n",
            "time       11083.012635\n",
            "acc           93.980000\n",
            "dtype: float64\n",
            "arch_id    2368.226552\n",
            "time        191.042529\n",
            "acc           0.257245\n",
            "dtype: float64\n"
          ]
        }
      ]
    },
    {
      "cell_type": "code",
      "source": [
        "validation_on_cifar10 = pd.read_csv(\"/content/drive/MyDrive/GitHub/NAS_project/12hpvalidation_on_cifar10_in_30_experimetns_with_N=1000.csv\")\n",
        "print(validation_on_cifar10.mean())\n",
        "print(validation_on_cifar10.std())"
      ],
      "metadata": {
        "colab": {
          "base_uri": "https://localhost:8080/"
        },
        "id": "LA9i-0rvK_LZ",
        "outputId": "b8a46d12-7c31-4289-987d-319a3c387e6d"
      },
      "execution_count": null,
      "outputs": [
        {
          "output_type": "stream",
          "name": "stdout",
          "text": [
            "arch_id      8647.700000\n",
            "time       112872.632078\n",
            "acc            94.096000\n",
            "dtype: float64\n",
            "arch_id    4056.389121\n",
            "time        990.106775\n",
            "acc           0.280786\n",
            "dtype: float64\n"
          ]
        }
      ]
    },
    {
      "cell_type": "code",
      "source": [
        "validation12hp_on_cifar100 = pd.read_csv(\"/content/drive/MyDrive/GitHub/NAS_project/12hpvalidation_on_cifar100_in_30_experimetns_with_N=10.csv\")\n",
        "print(validation12hp_on_cifar100.mean())\n",
        "print(validation12hp_on_cifar100.std())"
      ],
      "metadata": {
        "colab": {
          "base_uri": "https://localhost:8080/"
        },
        "id": "sjhbIcdaLbqe",
        "outputId": "a7a2bff1-9dee-4287-e1de-0f0d4e3159b4"
      },
      "execution_count": null,
      "outputs": [
        {
          "output_type": "stream",
          "name": "stdout",
          "text": [
            "arch_id    7109.933333\n",
            "time       2220.828279\n",
            "acc          68.940556\n",
            "dtype: float64\n",
            "arch_id    4029.204131\n",
            "time        227.749349\n",
            "acc           1.450888\n",
            "dtype: float64\n"
          ]
        }
      ]
    },
    {
      "cell_type": "code",
      "source": [
        "validation12hp_on_cifar100 = pd.read_csv(\"/content/drive/MyDrive/GitHub/NAS_project/12hpvalidation_on_cifar100_in_30_experimetns_with_N=100.csv\")\n",
        "print(validation12hp_on_cifar100.mean())\n",
        "print(validation12hp_on_cifar100.std())"
      ],
      "metadata": {
        "colab": {
          "base_uri": "https://localhost:8080/"
        },
        "id": "7QG038JcMBcX",
        "outputId": "6706c2d6-a305-41be-c6aa-9d61b4bab83d"
      },
      "execution_count": null,
      "outputs": [
        {
          "output_type": "stream",
          "name": "stdout",
          "text": [
            "arch_id     7417.733333\n",
            "time       22124.033004\n",
            "acc           71.216778\n",
            "dtype: float64\n",
            "arch_id    5044.048216\n",
            "time        603.518087\n",
            "acc           1.082671\n",
            "dtype: float64\n"
          ]
        }
      ]
    },
    {
      "cell_type": "code",
      "source": [
        "validation12hp_on_cifar100 = pd.read_csv(\"/content/drive/MyDrive/GitHub/NAS_project/12hpvalidation_on_cifar100_in_30_experimetns_with_N=1000.csv\")\n",
        "print(validation12hp_on_cifar100.mean())\n",
        "print(validation12hp_on_cifar100.std())"
      ],
      "metadata": {
        "colab": {
          "base_uri": "https://localhost:8080/"
        },
        "id": "dI49mE1MMgVa",
        "outputId": "c1ee964d-f2eb-4f6e-e331-5124ef86b873"
      },
      "execution_count": null,
      "outputs": [
        {
          "output_type": "stream",
          "name": "stdout",
          "text": [
            "arch_id      8063.200000\n",
            "time       220177.507414\n",
            "acc            72.115111\n",
            "dtype: float64\n",
            "arch_id    4400.056139\n",
            "time       1779.909480\n",
            "acc           0.890533\n",
            "dtype: float64\n"
          ]
        }
      ]
    },
    {
      "cell_type": "code",
      "source": [
        "validation12hp_on_ImageNet = pd.read_csv(\"/content/drive/MyDrive/GitHub/NAS_project/12hpvalidation_on_ImageNet16-120_in_30_experimetns_with_N=10.csv\")\n",
        "print(validation12hp_on_ImageNet.mean())\n",
        "print(validation12hp_on_ImageNet.std())"
      ],
      "metadata": {
        "colab": {
          "base_uri": "https://localhost:8080/"
        },
        "id": "8f-hwi96tM0n",
        "outputId": "fe3d7c7f-a3d9-4af1-ab30-797ee258f071"
      },
      "execution_count": null,
      "outputs": [
        {
          "output_type": "stream",
          "name": "stdout",
          "text": [
            "arch_id    8015.833333\n",
            "time       6594.244457\n",
            "acc          41.453518\n",
            "dtype: float64\n",
            "arch_id    4454.955753\n",
            "time        437.897686\n",
            "acc           2.754028\n",
            "dtype: float64\n"
          ]
        }
      ]
    },
    {
      "cell_type": "code",
      "source": [
        "validation12hp_on_ImageNet = pd.read_csv(\"/content/drive/MyDrive/GitHub/NAS_project/12hpvalidation_on_ImageNet16-120_in_30_experimetns_with_N=100.csv\")\n",
        "print(validation12hp_on_ImageNet.mean())\n",
        "print(validation12hp_on_ImageNet.std())"
      ],
      "metadata": {
        "colab": {
          "base_uri": "https://localhost:8080/"
        },
        "id": "LaGCa-k2t5Wg",
        "outputId": "9c9973e8-5e26-4be3-aabd-f5339ae209ab"
      },
      "execution_count": null,
      "outputs": [
        {
          "output_type": "stream",
          "name": "stdout",
          "text": [
            "arch_id     7334.866667\n",
            "time       66670.543294\n",
            "acc           44.839630\n",
            "dtype: float64\n",
            "arch_id    4429.547838\n",
            "time       1740.130253\n",
            "acc           1.508987\n",
            "dtype: float64\n"
          ]
        }
      ]
    },
    {
      "cell_type": "code",
      "source": [
        "validation12hp_on_ImageNet = pd.read_csv(\"/content/drive/MyDrive/GitHub/NAS_project/12hpvalidation_on_ImageNet16-120_in_30_experimetns_with_N=1000.csv\")\n",
        "print(validation12hp_on_ImageNet.mean())\n",
        "print(validation12hp_on_ImageNet.std())"
      ],
      "metadata": {
        "colab": {
          "base_uri": "https://localhost:8080/"
        },
        "id": "QL9BNTiGt7Z0",
        "outputId": "cb10185a-d6c8-4c72-b691-84434c030f74"
      },
      "execution_count": null,
      "outputs": [
        {
          "output_type": "stream",
          "name": "stdout",
          "text": [
            "arch_id      8226.933333\n",
            "time       665714.631970\n",
            "acc            46.210741\n",
            "dtype: float64\n",
            "arch_id    4210.014268\n",
            "time       4956.537684\n",
            "acc           0.585487\n",
            "dtype: float64\n"
          ]
        }
      ]
    }
  ],
  "metadata": {
    "accelerator": "GPU",
    "colab": {
      "collapsed_sections": [],
      "name": "random search algorithm using 12epochs validation accuracy.ipynb",
      "provenance": []
    },
    "gpuClass": "standard",
    "kernelspec": {
      "display_name": "Python 3",
      "name": "python3"
    },
    "language_info": {
      "name": "python"
    }
  },
  "nbformat": 4,
  "nbformat_minor": 0
}